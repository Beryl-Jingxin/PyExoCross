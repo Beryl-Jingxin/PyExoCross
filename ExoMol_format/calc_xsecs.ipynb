{
 "cells": [
  {
   "cell_type": "markdown",
   "metadata": {},
   "source": [
    "## Import all what we need."
   ]
  },
  {
   "cell_type": "code",
   "execution_count": 27,
   "metadata": {},
   "outputs": [],
   "source": [
    "# encoding: utf-8\n",
    "import os\n",
    "import bz2\n",
    "import csv\n",
    "import glob\n",
    "import time\n",
    "import requests\n",
    "import numpy as np\n",
    "import pandas as pd\n",
    "from tqdm import tqdm\n",
    "from numba import njit\n",
    "from io import StringIO\n",
    "import matplotlib.pyplot as plt\n",
    "import threading, multiprocessing"
   ]
  },
  {
   "cell_type": "markdown",
   "metadata": {},
   "source": [
    "## The Input File Path and Parameters\n",
    "\n",
    "\n",
    "<table><tr><td bgcolor=skyblue><font size=24> Could be changed ! </font></td></tr></table>"
   ]
  },
  {
   "cell_type": "code",
   "execution_count": 55,
   "metadata": {},
   "outputs": [],
   "source": [
    "#########################################################\n",
    "inp_filepath = 'NO.inp'\n",
    "read_path = '/mnt/data/exomol/exomol3_data/'\n",
    "save_path = '/home/jingxin/data/pyexocross/'\n",
    "if os.path.exists(save_path):\n",
    "    pass\n",
    "else:\n",
    "    os.makedirs(save_path, exist_ok=True)\n",
    "\n",
    "ratio = 1.0\n",
    "ratio_air = 0.7\n",
    "ratio_self = 0.3\n",
    "cutoff = 25.0\n",
    "threshold = 1e-30\n",
    "P = 1.0\n",
    "#########################################################"
   ]
  },
  {
   "cell_type": "markdown",
   "metadata": {},
   "source": [
    "## Report time"
   ]
  },
  {
   "cell_type": "code",
   "execution_count": 29,
   "metadata": {},
   "outputs": [],
   "source": [
    "class Timer:    \n",
    "    def start(self):\n",
    "        self.start_CPU = time.process_time()\n",
    "        self.start_sys = time.time()\n",
    "        return self\n",
    "\n",
    "    def end(self, *args):\n",
    "        self.end_CPU = time.process_time()\n",
    "        self.end_sys = time.time()\n",
    "        self.interval_CPU = self.end_CPU - self.start_CPU\n",
    "        self.interval_sys = self.end_sys - self.start_sys\n",
    "        print('{:25s} : {}'.format('Running time on CPU', self.interval_CPU), 's')\n",
    "        print('{:25s} : {}'.format('Running time on system', self.interval_sys), 's')"
   ]
  },
  {
   "cell_type": "markdown",
   "metadata": {},
   "source": [
    "## Read Information from Input File"
   ]
  },
  {
   "cell_type": "code",
   "execution_count": 30,
   "metadata": {},
   "outputs": [],
   "source": [
    "def inp_para(inp_filepath):\n",
    "    \n",
    "    inp_col_name = ['c0','c1','c2','c3','c4','c5','c6','c7','c8','c9','c10']\n",
    "    inp_df = pd.read_csv(inp_filepath, sep='\\\\s+', names=inp_col_name, header=None)\n",
    "    col0 = inp_df['c0']\n",
    "    database = inp_df[col0.isin(['Database'])]['c1'].values[0]\n",
    "    molecule = inp_df[col0.isin(['Molecule'])]['c1'].values[0]\n",
    "    isotopologue = inp_df[col0.isin(['Isotopologue'])]['c1'].values\n",
    "    dataset = inp_df[col0.isin(['Dataset'])]['c1'].values\n",
    "    mol_iso_id = int(inp_df[col0.isin(['mol_iso_id'])]['c1'])\n",
    "    mass = float(inp_df[col0.isin(['mass'])]['c1'])    # ExoMol mass (kg)\n",
    "    T = int(inp_df[col0.isin(['Temperature'])]['c1'])\n",
    "    min_wn = float(inp_df[col0.isin(['Range'])]['c1'])\n",
    "    max_wn = float(inp_df[col0.isin(['Range'])]['c2'])\n",
    "    N_point = int(inp_df[col0.isin(['Npoints'])]['c1'])\n",
    "    abs_emi = inp_df[col0.isin(['AbsorptionOREmission'])]['c1'].values[0]\n",
    "    profile = inp_df[col0.isin(['Profile'])]['c1'].values[0]\n",
    "    wn_wl = inp_df[col0.isin(['Wavenumber(wn)/wavelength(wl)'])]['c1'].values[0]\n",
    "    saveplots = inp_df[col0.isin(['SavePlots'])]['c1'].values[0]\n",
    "    savexsecs = inp_df[col0.isin(['SaveXsecs'])]['c1'].values[0]\n",
    "\n",
    "    molecule_id = int(mol_iso_id/10)\n",
    "    isotopologue_id = mol_iso_id - molecule_id * 10\n",
    "    isometa_url = 'https://hitran.org/docs/iso-meta/'\n",
    "    iso_meta_table = pd.read_html(isometa_url)[molecule_id - 1]\n",
    "    iso_meta_row = iso_meta_table[iso_meta_table['local ID'].isin([isotopologue_id])]\n",
    "    abundance = float(iso_meta_row['Abundance'][0].replace('\\xa0×\\xa010','E'))\n",
    "    \n",
    "    return database, molecule, isotopologue, dataset, T, min_wn, max_wn, N_point, abs_emi, profile, wn_wl, saveplots, savexsecs, molecule_id, isotopologue_id, abundance, mass\n"
   ]
  },
  {
   "cell_type": "markdown",
   "metadata": {},
   "source": [
    "## Constants and Parameters"
   ]
  },
  {
   "cell_type": "code",
   "execution_count": 31,
   "metadata": {},
   "outputs": [],
   "source": [
    "# Parameters for calculating.\n",
    "import astropy.constants as ac\n",
    "(database, molecule, isotopologue, dataset, T, min_wn, max_wn, N_point, abs_emi, profile, wn_wl, \n",
    "saveplots, savexsecs, molecule_id, isotopologue_id, abundance, mass) = inp_para(inp_filepath)\n",
    "T_ref = 296.0                       # Reference temperature is 296 K.\n",
    "P_ref = 1.0                         # Reference pressure is 1 atm.\n",
    "N_A = ac.N_A.value                  # Avogadro number (1/mol)\n",
    "h = ac.h.to('J s').value            # Planck's const (J s)\n",
    "c = ac.c.to('cm/s').value           # Velocity of light (cm/s)\n",
    "kB = ac.k_B.to('J/K').value         # Boltzmann's const (J/K)\n",
    "R = ac.R.to('J / (K mol)').value    # Gas constant (J/(K mol))\n",
    "c2 = h * c / kB                     # Second radiation constant (cm K)\n",
    "\n",
    "c2_T = c2 / T                       # c2 / T (cm)\n",
    "c2_T_ref = c2 / T_ref               # c2 / T_ref (cm)\n",
    "pi_c_8 = 1 / (8 * np.pi * c)        # 8 * pi * c (s/cm)"
   ]
  },
  {
   "cell_type": "markdown",
   "metadata": {},
   "source": [
    "## Read ExoMol Format Input File\n",
    "\n",
    "Read the parameters of the linelist in ExoMol format text file. Return the dataframe of the linelist data for the following calculations.\n",
    "\n",
    "### Read States File"
   ]
  },
  {
   "cell_type": "code",
   "execution_count": 32,
   "metadata": {},
   "outputs": [],
   "source": [
    "def read_all_states(read_path):\n",
    "    \n",
    "    s_df = dict()\n",
    "    states_df = pd.DataFrame()\n",
    "    states_filenames = glob.glob((read_path + molecule + '/' + isotopologue + '/' + dataset \n",
    "                                  + '/' + isotopologue + '__' + dataset + '.states.bz2')[0])\n",
    "\n",
    "    for states_filename in states_filenames:\n",
    "        s_df[states_filename] = pd.read_csv(states_filename, compression='bz2', sep='\\s+', header=None,\n",
    "                                            chunksize=100_000_000, iterator=True, low_memory=False)\n",
    "        for chunk in s_df[states_filename]:\n",
    "            states_df = pd.concat([states_df, chunk])\n",
    "            \n",
    "    pd.set_option(\"display.max_columns\",30)                           \n",
    "    return(states_df)"
   ]
  },
  {
   "cell_type": "code",
   "execution_count": 33,
   "metadata": {
    "scrolled": true
   },
   "outputs": [
    {
     "data": {
      "text/html": [
       "<div>\n",
       "<style scoped>\n",
       "    .dataframe tbody tr th:only-of-type {\n",
       "        vertical-align: middle;\n",
       "    }\n",
       "\n",
       "    .dataframe tbody tr th {\n",
       "        vertical-align: top;\n",
       "    }\n",
       "\n",
       "    .dataframe thead th {\n",
       "        text-align: right;\n",
       "    }\n",
       "</style>\n",
       "<table border=\"1\" class=\"dataframe\">\n",
       "  <thead>\n",
       "    <tr style=\"text-align: right;\">\n",
       "      <th></th>\n",
       "      <th>0</th>\n",
       "      <th>1</th>\n",
       "      <th>2</th>\n",
       "      <th>3</th>\n",
       "      <th>4</th>\n",
       "      <th>5</th>\n",
       "      <th>6</th>\n",
       "      <th>7</th>\n",
       "      <th>8</th>\n",
       "      <th>9</th>\n",
       "      <th>10</th>\n",
       "      <th>11</th>\n",
       "      <th>12</th>\n",
       "      <th>13</th>\n",
       "      <th>14</th>\n",
       "      <th>15</th>\n",
       "    </tr>\n",
       "  </thead>\n",
       "  <tbody>\n",
       "    <tr>\n",
       "      <th>0</th>\n",
       "      <td>1</td>\n",
       "      <td>0.000000</td>\n",
       "      <td>6</td>\n",
       "      <td>0.5</td>\n",
       "      <td>0.000105</td>\n",
       "      <td>inf</td>\n",
       "      <td>-0.000767</td>\n",
       "      <td>+</td>\n",
       "      <td>e</td>\n",
       "      <td>X2Pi</td>\n",
       "      <td>0</td>\n",
       "      <td>1</td>\n",
       "      <td>-0.5</td>\n",
       "      <td>0.5</td>\n",
       "      <td>EH</td>\n",
       "      <td>0.000000</td>\n",
       "    </tr>\n",
       "    <tr>\n",
       "      <th>1</th>\n",
       "      <td>2</td>\n",
       "      <td>1876.076228</td>\n",
       "      <td>6</td>\n",
       "      <td>0.5</td>\n",
       "      <td>0.000105</td>\n",
       "      <td>0.083086</td>\n",
       "      <td>-0.000767</td>\n",
       "      <td>+</td>\n",
       "      <td>e</td>\n",
       "      <td>X2Pi</td>\n",
       "      <td>1</td>\n",
       "      <td>1</td>\n",
       "      <td>-0.5</td>\n",
       "      <td>0.5</td>\n",
       "      <td>EH</td>\n",
       "      <td>1876.080573</td>\n",
       "    </tr>\n",
       "    <tr>\n",
       "      <th>2</th>\n",
       "      <td>3</td>\n",
       "      <td>3724.066346</td>\n",
       "      <td>6</td>\n",
       "      <td>0.5</td>\n",
       "      <td>0.000105</td>\n",
       "      <td>0.042467</td>\n",
       "      <td>-0.000767</td>\n",
       "      <td>+</td>\n",
       "      <td>e</td>\n",
       "      <td>X2Pi</td>\n",
       "      <td>2</td>\n",
       "      <td>1</td>\n",
       "      <td>-0.5</td>\n",
       "      <td>0.5</td>\n",
       "      <td>EH</td>\n",
       "      <td>3724.063754</td>\n",
       "    </tr>\n",
       "    <tr>\n",
       "      <th>3</th>\n",
       "      <td>4</td>\n",
       "      <td>5544.020643</td>\n",
       "      <td>6</td>\n",
       "      <td>0.5</td>\n",
       "      <td>0.000105</td>\n",
       "      <td>0.028936</td>\n",
       "      <td>-0.000767</td>\n",
       "      <td>+</td>\n",
       "      <td>e</td>\n",
       "      <td>X2Pi</td>\n",
       "      <td>3</td>\n",
       "      <td>1</td>\n",
       "      <td>-0.5</td>\n",
       "      <td>0.5</td>\n",
       "      <td>EH</td>\n",
       "      <td>5544.019791</td>\n",
       "    </tr>\n",
       "    <tr>\n",
       "      <th>4</th>\n",
       "      <td>5</td>\n",
       "      <td>7335.982597</td>\n",
       "      <td>6</td>\n",
       "      <td>0.5</td>\n",
       "      <td>0.000105</td>\n",
       "      <td>0.022179</td>\n",
       "      <td>-0.000767</td>\n",
       "      <td>+</td>\n",
       "      <td>e</td>\n",
       "      <td>X2Pi</td>\n",
       "      <td>4</td>\n",
       "      <td>1</td>\n",
       "      <td>-0.5</td>\n",
       "      <td>0.5</td>\n",
       "      <td>EH</td>\n",
       "      <td>7335.982588</td>\n",
       "    </tr>\n",
       "    <tr>\n",
       "      <th>...</th>\n",
       "      <td>...</td>\n",
       "      <td>...</td>\n",
       "      <td>...</td>\n",
       "      <td>...</td>\n",
       "      <td>...</td>\n",
       "      <td>...</td>\n",
       "      <td>...</td>\n",
       "      <td>...</td>\n",
       "      <td>...</td>\n",
       "      <td>...</td>\n",
       "      <td>...</td>\n",
       "      <td>...</td>\n",
       "      <td>...</td>\n",
       "      <td>...</td>\n",
       "      <td>...</td>\n",
       "      <td>...</td>\n",
       "    </tr>\n",
       "    <tr>\n",
       "      <th>30806</th>\n",
       "      <td>30807</td>\n",
       "      <td>51437.214745</td>\n",
       "      <td>1104</td>\n",
       "      <td>183.5</td>\n",
       "      <td>85.000000</td>\n",
       "      <td>2.263500</td>\n",
       "      <td>-0.005226</td>\n",
       "      <td>-</td>\n",
       "      <td>e</td>\n",
       "      <td>X2Pi</td>\n",
       "      <td>0</td>\n",
       "      <td>-1</td>\n",
       "      <td>-0.5</td>\n",
       "      <td>-1.5</td>\n",
       "      <td>Sh</td>\n",
       "      <td>51436.924721</td>\n",
       "    </tr>\n",
       "    <tr>\n",
       "      <th>30807</th>\n",
       "      <td>30808</td>\n",
       "      <td>51423.819795</td>\n",
       "      <td>1110</td>\n",
       "      <td>184.5</td>\n",
       "      <td>86.000000</td>\n",
       "      <td>2.259500</td>\n",
       "      <td>0.005286</td>\n",
       "      <td>+</td>\n",
       "      <td>e</td>\n",
       "      <td>X2Pi</td>\n",
       "      <td>0</td>\n",
       "      <td>1</td>\n",
       "      <td>-0.5</td>\n",
       "      <td>0.5</td>\n",
       "      <td>Sh</td>\n",
       "      <td>51423.355496</td>\n",
       "    </tr>\n",
       "    <tr>\n",
       "      <th>30808</th>\n",
       "      <td>30809</td>\n",
       "      <td>51924.380929</td>\n",
       "      <td>1110</td>\n",
       "      <td>184.5</td>\n",
       "      <td>86.000000</td>\n",
       "      <td>2.140000</td>\n",
       "      <td>-0.005198</td>\n",
       "      <td>+</td>\n",
       "      <td>e</td>\n",
       "      <td>X2Pi</td>\n",
       "      <td>0</td>\n",
       "      <td>1</td>\n",
       "      <td>0.5</td>\n",
       "      <td>1.5</td>\n",
       "      <td>Sh</td>\n",
       "      <td>51924.090905</td>\n",
       "    </tr>\n",
       "    <tr>\n",
       "      <th>30809</th>\n",
       "      <td>30810</td>\n",
       "      <td>51422.660483</td>\n",
       "      <td>1110</td>\n",
       "      <td>184.5</td>\n",
       "      <td>86.000000</td>\n",
       "      <td>2.260400</td>\n",
       "      <td>0.005295</td>\n",
       "      <td>-</td>\n",
       "      <td>f</td>\n",
       "      <td>X2Pi</td>\n",
       "      <td>0</td>\n",
       "      <td>-1</td>\n",
       "      <td>0.5</td>\n",
       "      <td>-0.5</td>\n",
       "      <td>Sh</td>\n",
       "      <td>51422.346275</td>\n",
       "    </tr>\n",
       "    <tr>\n",
       "      <th>30810</th>\n",
       "      <td>30811</td>\n",
       "      <td>51927.685590</td>\n",
       "      <td>1110</td>\n",
       "      <td>184.5</td>\n",
       "      <td>86.000000</td>\n",
       "      <td>2.138900</td>\n",
       "      <td>-0.005207</td>\n",
       "      <td>-</td>\n",
       "      <td>f</td>\n",
       "      <td>X2Pi</td>\n",
       "      <td>0</td>\n",
       "      <td>-1</td>\n",
       "      <td>-0.5</td>\n",
       "      <td>-1.5</td>\n",
       "      <td>Sh</td>\n",
       "      <td>51927.240706</td>\n",
       "    </tr>\n",
       "  </tbody>\n",
       "</table>\n",
       "<p>30811 rows × 16 columns</p>\n",
       "</div>"
      ],
      "text/plain": [
       "          0             1     2      3          4         5         6  7  8   \\\n",
       "0          1      0.000000     6    0.5   0.000105       inf -0.000767  +  e   \n",
       "1          2   1876.076228     6    0.5   0.000105  0.083086 -0.000767  +  e   \n",
       "2          3   3724.066346     6    0.5   0.000105  0.042467 -0.000767  +  e   \n",
       "3          4   5544.020643     6    0.5   0.000105  0.028936 -0.000767  +  e   \n",
       "4          5   7335.982597     6    0.5   0.000105  0.022179 -0.000767  +  e   \n",
       "...      ...           ...   ...    ...        ...       ...       ... .. ..   \n",
       "30806  30807  51437.214745  1104  183.5  85.000000  2.263500 -0.005226  -  e   \n",
       "30807  30808  51423.819795  1110  184.5  86.000000  2.259500  0.005286  +  e   \n",
       "30808  30809  51924.380929  1110  184.5  86.000000  2.140000 -0.005198  +  e   \n",
       "30809  30810  51422.660483  1110  184.5  86.000000  2.260400  0.005295  -  f   \n",
       "30810  30811  51927.685590  1110  184.5  86.000000  2.138900 -0.005207  -  f   \n",
       "\n",
       "         9   10  11   12   13  14            15  \n",
       "0      X2Pi   0   1 -0.5  0.5  EH      0.000000  \n",
       "1      X2Pi   1   1 -0.5  0.5  EH   1876.080573  \n",
       "2      X2Pi   2   1 -0.5  0.5  EH   3724.063754  \n",
       "3      X2Pi   3   1 -0.5  0.5  EH   5544.019791  \n",
       "4      X2Pi   4   1 -0.5  0.5  EH   7335.982588  \n",
       "...     ...  ..  ..  ...  ...  ..           ...  \n",
       "30806  X2Pi   0  -1 -0.5 -1.5  Sh  51436.924721  \n",
       "30807  X2Pi   0   1 -0.5  0.5  Sh  51423.355496  \n",
       "30808  X2Pi   0   1  0.5  1.5  Sh  51924.090905  \n",
       "30809  X2Pi   0  -1  0.5 -0.5  Sh  51422.346275  \n",
       "30810  X2Pi   0  -1 -0.5 -1.5  Sh  51927.240706  \n",
       "\n",
       "[30811 rows x 16 columns]"
      ]
     },
     "execution_count": 33,
     "metadata": {},
     "output_type": "execute_result"
    }
   ],
   "source": [
    "read_all_states(read_path)"
   ]
  },
  {
   "cell_type": "markdown",
   "metadata": {},
   "source": [
    "### Read transitions File"
   ]
  },
  {
   "cell_type": "code",
   "execution_count": 41,
   "metadata": {},
   "outputs": [],
   "source": [
    "def get_transfiles(read_path):\n",
    "    # Get all the transitions files from the folder including the older version files which are named by vn(version number).\n",
    "    trans_filepaths_all = glob.glob((read_path + molecule + '/' + isotopologue + '/' + dataset + '/' + '*trans.bz2')[0])\n",
    "    num_transfiles_all = len(trans_filepaths_all)    # The number of all transitions files including the older version files.\n",
    "    trans_filepaths = []    # The list of the lastest transitions files.\n",
    "    for i in range(num_transfiles_all):\n",
    "        split_version = trans_filepaths_all[i].split('__')[-1].split('.')[0].split('_')    # Split the filenames.\n",
    "        num = len(split_version)\n",
    "        # There are three format filenames.\n",
    "        # The lastest transitions files named in two formats:\n",
    "        # 1. Filenames are named with the name of isotopologue and dataset. \n",
    "        #    End with .trans.bz2.\n",
    "        #    e.g. 14N-16O__XABC.trans.bz2'\n",
    "        # 2. Filenames are named with the name of isotopologue and dataset. \n",
    "        #    Also have the range of wavenumbers xxxxx-yyyyy.\n",
    "        #    End with .trans.bz2.\n",
    "        #    e.g. 1H2-16O__POKAZATEL__00000-00100.trans.bz2\n",
    "        # 3. The older version transitions files are named with vn(version number) based on the first format of the lastest files.\n",
    "        #    e.g. 14N-16O__XABC_v2.trans.bz2\n",
    "        # After split the filenames:\n",
    "        # The first format filenames only leave the dataset name, e.g. XABC.\n",
    "        # The second format filenames only leave the range of the wavenumber, e.g. 00000-00100.\n",
    "        # The third format filenames leave two parts(dataset name and version number), e.g. XABC and v2.\n",
    "        # This program only process the lastest data, so extract the filenames named by the first two format.\n",
    "        if num == 1:        \n",
    "            trans_filepaths.append(trans_filepaths_all[i])\n",
    "    return(trans_filepaths)   "
   ]
  },
  {
   "cell_type": "code",
   "execution_count": 42,
   "metadata": {},
   "outputs": [],
   "source": [
    "def read_all_trans(read_path):\n",
    "    \n",
    "    t_df = dict()\n",
    "    trans_df = pd.DataFrame()\n",
    "    trans_col_name = ['u', 'l', 'A', 'v']\n",
    "    trans_filepaths = get_transfiles(read_path)\n",
    "    #trans_filepaths = glob.glob((read_path + molecule + '/' + isotopologue + '/' + dataset + '/' + '*trans.bz2')[0])\n",
    "\n",
    "    for trans_filename in tqdm(trans_filepaths):\n",
    "        t_df[trans_filename] = pd.read_csv(trans_filename, compression='bz2', sep='\\s+', header=None,\n",
    "                                           names=trans_col_name, chunksize=100_000_000, iterator=True, low_memory=False)\n",
    "        for chunk in t_df[trans_filename]:\n",
    "            trans_df = pd.concat([trans_df,chunk])\n",
    "            \n",
    "    pd.set_option(\"display.max_columns\",30)                           \n",
    "    return(trans_df)\n",
    "    "
   ]
  },
  {
   "cell_type": "code",
   "execution_count": 43,
   "metadata": {},
   "outputs": [
    {
     "name": "stderr",
     "output_type": "stream",
     "text": [
      "100%|██████████| 1/1 [00:11<00:00, 11.77s/it]\n"
     ]
    },
    {
     "data": {
      "text/html": [
       "<div>\n",
       "<style scoped>\n",
       "    .dataframe tbody tr th:only-of-type {\n",
       "        vertical-align: middle;\n",
       "    }\n",
       "\n",
       "    .dataframe tbody tr th {\n",
       "        vertical-align: top;\n",
       "    }\n",
       "\n",
       "    .dataframe thead th {\n",
       "        text-align: right;\n",
       "    }\n",
       "</style>\n",
       "<table border=\"1\" class=\"dataframe\">\n",
       "  <thead>\n",
       "    <tr style=\"text-align: right;\">\n",
       "      <th></th>\n",
       "      <th>u</th>\n",
       "      <th>l</th>\n",
       "      <th>A</th>\n",
       "      <th>v</th>\n",
       "    </tr>\n",
       "  </thead>\n",
       "  <tbody>\n",
       "    <tr>\n",
       "      <th>0</th>\n",
       "      <td>21269</td>\n",
       "      <td>21366</td>\n",
       "      <td>2.482800e-15</td>\n",
       "      <td>-27.139364</td>\n",
       "    </tr>\n",
       "    <tr>\n",
       "      <th>1</th>\n",
       "      <td>21171</td>\n",
       "      <td>21463</td>\n",
       "      <td>5.131000e-15</td>\n",
       "      <td>-25.445631</td>\n",
       "    </tr>\n",
       "    <tr>\n",
       "      <th>2</th>\n",
       "      <td>20476</td>\n",
       "      <td>20372</td>\n",
       "      <td>2.796900e-19</td>\n",
       "      <td>-17.833434</td>\n",
       "    </tr>\n",
       "    <tr>\n",
       "      <th>3</th>\n",
       "      <td>20373</td>\n",
       "      <td>20475</td>\n",
       "      <td>7.835200e-19</td>\n",
       "      <td>-15.615441</td>\n",
       "    </tr>\n",
       "    <tr>\n",
       "      <th>4</th>\n",
       "      <td>20270</td>\n",
       "      <td>20372</td>\n",
       "      <td>1.679300e-16</td>\n",
       "      <td>-14.558045</td>\n",
       "    </tr>\n",
       "    <tr>\n",
       "      <th>...</th>\n",
       "      <td>...</td>\n",
       "      <td>...</td>\n",
       "      <td>...</td>\n",
       "      <td>...</td>\n",
       "    </tr>\n",
       "    <tr>\n",
       "      <th>4596661</th>\n",
       "      <td>5428</td>\n",
       "      <td>5113</td>\n",
       "      <td>5.439400e+00</td>\n",
       "      <td>62174.135370</td>\n",
       "    </tr>\n",
       "    <tr>\n",
       "      <th>4596662</th>\n",
       "      <td>5902</td>\n",
       "      <td>5271</td>\n",
       "      <td>5.258400e+00</td>\n",
       "      <td>62185.188907</td>\n",
       "    </tr>\n",
       "    <tr>\n",
       "      <th>4596663</th>\n",
       "      <td>6060</td>\n",
       "      <td>5745</td>\n",
       "      <td>5.083000e+00</td>\n",
       "      <td>62196.547593</td>\n",
       "    </tr>\n",
       "    <tr>\n",
       "      <th>4596664</th>\n",
       "      <td>6532</td>\n",
       "      <td>5903</td>\n",
       "      <td>4.913100e+00</td>\n",
       "      <td>62208.209857</td>\n",
       "    </tr>\n",
       "    <tr>\n",
       "      <th>4596665</th>\n",
       "      <td>6689</td>\n",
       "      <td>6376</td>\n",
       "      <td>4.749000e+00</td>\n",
       "      <td>62220.174123</td>\n",
       "    </tr>\n",
       "  </tbody>\n",
       "</table>\n",
       "<p>4596666 rows × 4 columns</p>\n",
       "</div>"
      ],
      "text/plain": [
       "             u      l             A             v\n",
       "0        21269  21366  2.482800e-15    -27.139364\n",
       "1        21171  21463  5.131000e-15    -25.445631\n",
       "2        20476  20372  2.796900e-19    -17.833434\n",
       "3        20373  20475  7.835200e-19    -15.615441\n",
       "4        20270  20372  1.679300e-16    -14.558045\n",
       "...        ...    ...           ...           ...\n",
       "4596661   5428   5113  5.439400e+00  62174.135370\n",
       "4596662   5902   5271  5.258400e+00  62185.188907\n",
       "4596663   6060   5745  5.083000e+00  62196.547593\n",
       "4596664   6532   5903  4.913100e+00  62208.209857\n",
       "4596665   6689   6376  4.749000e+00  62220.174123\n",
       "\n",
       "[4596666 rows x 4 columns]"
      ]
     },
     "execution_count": 43,
     "metadata": {},
     "output_type": "execute_result"
    }
   ],
   "source": [
    "read_all_trans(read_path)"
   ]
  },
  {
   "cell_type": "markdown",
   "metadata": {},
   "source": [
    "def read_part_trans(read_path):\n",
    "    t_df = dict()\n",
    "    trans_df = pd.DataFrame()\n",
    "    lower_df = pd.DataFrame()\n",
    "    upper_df = pd.DataFrame()\n",
    "    insider_df = pd.DataFrame()\n",
    "    trans_col_name = ['i', 'f', 'A_if', 'v_if']\n",
    "    trans_filenames = glob.glob((read_path + molecule + '/' + isotopologue + '/' + dataset + '/' + '*trans.bz2')[0])\n",
    "\n",
    "    if len(trans_filenames) == 1:\n",
    "        t_df = pd.read_csv(trans_filenames[0], compression='bz2', sep='\\s+', header=None, \n",
    "                           names=trans_col_name, chunksize=100_000_000, encoding='utf-8')\n",
    "        for chunk in t_df:\n",
    "            chunk = chunk[chunk['v_if'].between(min_wn - cutoff, max_wn + cutoff)]\n",
    "            trans_df = trans_df.append(chunk)\n",
    "        \n",
    "    elif len(trans_filenames) > 1:\n",
    "        for trans_filename in tqdm(trans_filenames):\n",
    "            lower = int(trans_filename.split('__')[2].split('.')[0].split('-')[0])\n",
    "            upper = int(trans_filename.split('__')[2].split('.')[0].split('-')[1])\n",
    "            if (lower <= int(min_wn) <= upper):\n",
    "                file_lower = pd.read_csv(trans_filename, compression='bz2', sep='\\s+', names=trans_col_name, \n",
    "                                         header=None, chunksize=100_000_000, encoding='utf-8')\n",
    "                for chunk in file_lower:\n",
    "                    chunk = chunk[chunk['v_if'].between(min_wn - cutoff, max_wn + cutoff)]\n",
    "                    lower_df = trans_df.append(chunk)\n",
    "\n",
    "            elif (lower <= int(min_wn) <= upper):\n",
    "                file_upper = pd.read_csv(trans_filename, compression='bz2', sep='\\s+', names=trans_col_name, \n",
    "                                         header=None, chunksize=100_000_000, encoding='utf-8')\n",
    "                for chunk in file_upper:\n",
    "                    chunk = chunk[chunk['v_if'].between(min_wn - cutoff, max_wn + cutoff)]                 \n",
    "                    upper_df = trans_df.append(chunk)\n",
    "\n",
    "            elif (lower >= int(min_wn) and upper <= int(max_wn)):    \n",
    "                t_df[trans_filename] = pd.read_csv(trans_filename, compression='bz2', sep='\\s+', names=trans_col_name, \n",
    "                                                   header=None, chunksize=100_000_000, encoding='utf-8')\n",
    "                for chunk in tqdm(t_df[trans_filename]):\n",
    "                    insider_df = trans_df.append(chunk)       \n",
    "\n",
    "        trans_df = lower_df.append(insider_df).append(upper_df)\n",
    "    \n",
    "    else:\n",
    "        print('No transitions file here.')\n",
    "    return (trans_df)"
   ]
  },
  {
   "cell_type": "markdown",
   "metadata": {},
   "source": [
    "### Read Partition Function File"
   ]
  },
  {
   "cell_type": "code",
   "execution_count": 44,
   "metadata": {},
   "outputs": [],
   "source": [
    "def read_web_pf(T_ref, T):\n",
    "    \n",
    "    pf_url = ('http://www.exomol.com/db/' + molecule + '/' + isotopologue + '/' + dataset \n",
    "              + '/' + isotopologue + '__' + dataset + '.pf')[0]\n",
    "    pf_content = requests.get(pf_url).text\n",
    "    pf_col_name = ['T', 'Q']\n",
    "    pf_df = pd.read_csv(StringIO(pf_content), sep='\\\\s+', names=pf_col_name, header=None)\n",
    "    Q_ref = pf_df['Q'][T_ref-1]\n",
    "    Q = pf_df['Q'][T-1]\n",
    "\n",
    "    return(Q_ref, Q)"
   ]
  },
  {
   "cell_type": "code",
   "execution_count": 45,
   "metadata": {},
   "outputs": [],
   "source": [
    "def read_pf(read_path, T_ref, T):\n",
    "    \n",
    "    pf_filename = (read_path + molecule + '/' + isotopologue + '/' + dataset \n",
    "                   + '/' + isotopologue + '__' + dataset + '.pf')[0]\n",
    "    pf_col_name = ['T', 'Q']\n",
    "    pf_df = pd.read_csv(pf_filename, sep='\\\\s+', names=pf_col_name, header=None)\n",
    "    Q_ref = pf_df['Q'][T_ref-1]\n",
    "    Q = pf_df['Q'][T-1]\n",
    "\n",
    "    return(Q_ref, Q)"
   ]
  },
  {
   "cell_type": "code",
   "execution_count": 46,
   "metadata": {},
   "outputs": [],
   "source": [
    "def read_broad(read_path):\n",
    "    \n",
    "    broad_col_name = ['code', 'gamma_L', 'n_air', 'Jpp']\n",
    "    broad_path = (read_path + molecule + '/' + isotopologue + '/' + isotopologue + '__air.broad')[0]\n",
    "    broad_df = pd.read_csv(broad_path, sep='\\s+', names=broad_col_name, header=None, engine='python')\n",
    "    return(broad_df)"
   ]
  },
  {
   "cell_type": "code",
   "execution_count": 47,
   "metadata": {},
   "outputs": [],
   "source": [
    "def all_linelist(read_path):\n",
    "    states_df = read_all_states(read_path)\n",
    "    trans_df = read_all_trans(read_path)\n",
    "    \n",
    "    id_u = trans_df['u'].values\n",
    "    states_df.set_index([0], inplace=True, drop=False)\n",
    "    states_u_df = states_df.loc[id_u]\n",
    "    linelist_df = pd.DataFrame()\n",
    "    linelist_df['u'] = trans_df['u']\n",
    "    linelist_df['l'] = trans_df['l']\n",
    "    linelist_df['A'] = trans_df['A']\n",
    "    linelist_df['v'] = trans_df['v']\n",
    "    linelist_df['Ep'] = states_u_df[1].values\n",
    "    linelist_df['gp'] = states_u_df[2].values\n",
    "    \n",
    "    return linelist_df\n"
   ]
  },
  {
   "cell_type": "code",
   "execution_count": 48,
   "metadata": {},
   "outputs": [
    {
     "name": "stderr",
     "output_type": "stream",
     "text": [
      "100%|██████████| 1/1 [00:11<00:00, 11.98s/it]\n"
     ]
    },
    {
     "data": {
      "text/html": [
       "<div>\n",
       "<style scoped>\n",
       "    .dataframe tbody tr th:only-of-type {\n",
       "        vertical-align: middle;\n",
       "    }\n",
       "\n",
       "    .dataframe tbody tr th {\n",
       "        vertical-align: top;\n",
       "    }\n",
       "\n",
       "    .dataframe thead th {\n",
       "        text-align: right;\n",
       "    }\n",
       "</style>\n",
       "<table border=\"1\" class=\"dataframe\">\n",
       "  <thead>\n",
       "    <tr style=\"text-align: right;\">\n",
       "      <th></th>\n",
       "      <th>u</th>\n",
       "      <th>l</th>\n",
       "      <th>A</th>\n",
       "      <th>v</th>\n",
       "      <th>Ep</th>\n",
       "      <th>gp</th>\n",
       "    </tr>\n",
       "  </thead>\n",
       "  <tbody>\n",
       "    <tr>\n",
       "      <th>0</th>\n",
       "      <td>21269</td>\n",
       "      <td>21366</td>\n",
       "      <td>2.482800e-15</td>\n",
       "      <td>-27.139364</td>\n",
       "      <td>52019.156996</td>\n",
       "      <td>468</td>\n",
       "    </tr>\n",
       "    <tr>\n",
       "      <th>1</th>\n",
       "      <td>21171</td>\n",
       "      <td>21463</td>\n",
       "      <td>5.131000e-15</td>\n",
       "      <td>-25.445631</td>\n",
       "      <td>52021.306254</td>\n",
       "      <td>468</td>\n",
       "    </tr>\n",
       "    <tr>\n",
       "      <th>2</th>\n",
       "      <td>20476</td>\n",
       "      <td>20372</td>\n",
       "      <td>2.796900e-19</td>\n",
       "      <td>-17.833434</td>\n",
       "      <td>51379.977677</td>\n",
       "      <td>444</td>\n",
       "    </tr>\n",
       "    <tr>\n",
       "      <th>3</th>\n",
       "      <td>20373</td>\n",
       "      <td>20475</td>\n",
       "      <td>7.835200e-19</td>\n",
       "      <td>-15.615441</td>\n",
       "      <td>51381.744635</td>\n",
       "      <td>444</td>\n",
       "    </tr>\n",
       "    <tr>\n",
       "      <th>4</th>\n",
       "      <td>20270</td>\n",
       "      <td>20372</td>\n",
       "      <td>1.679300e-16</td>\n",
       "      <td>-14.558045</td>\n",
       "      <td>51383.253066</td>\n",
       "      <td>438</td>\n",
       "    </tr>\n",
       "    <tr>\n",
       "      <th>...</th>\n",
       "      <td>...</td>\n",
       "      <td>...</td>\n",
       "      <td>...</td>\n",
       "      <td>...</td>\n",
       "      <td>...</td>\n",
       "      <td>...</td>\n",
       "    </tr>\n",
       "    <tr>\n",
       "      <th>4596661</th>\n",
       "      <td>5428</td>\n",
       "      <td>5113</td>\n",
       "      <td>5.439400e+00</td>\n",
       "      <td>62174.135370</td>\n",
       "      <td>62655.689630</td>\n",
       "      <td>108</td>\n",
       "    </tr>\n",
       "    <tr>\n",
       "      <th>4596662</th>\n",
       "      <td>5902</td>\n",
       "      <td>5271</td>\n",
       "      <td>5.258400e+00</td>\n",
       "      <td>62185.188907</td>\n",
       "      <td>62725.242710</td>\n",
       "      <td>114</td>\n",
       "    </tr>\n",
       "    <tr>\n",
       "      <th>4596663</th>\n",
       "      <td>6060</td>\n",
       "      <td>5745</td>\n",
       "      <td>5.083000e+00</td>\n",
       "      <td>62196.547593</td>\n",
       "      <td>62798.438527</td>\n",
       "      <td>120</td>\n",
       "    </tr>\n",
       "    <tr>\n",
       "      <th>4596664</th>\n",
       "      <td>6532</td>\n",
       "      <td>5903</td>\n",
       "      <td>4.913100e+00</td>\n",
       "      <td>62208.209857</td>\n",
       "      <td>62875.274330</td>\n",
       "      <td>126</td>\n",
       "    </tr>\n",
       "    <tr>\n",
       "      <th>4596665</th>\n",
       "      <td>6689</td>\n",
       "      <td>6376</td>\n",
       "      <td>4.749000e+00</td>\n",
       "      <td>62220.174123</td>\n",
       "      <td>62955.747228</td>\n",
       "      <td>132</td>\n",
       "    </tr>\n",
       "  </tbody>\n",
       "</table>\n",
       "<p>4596666 rows × 6 columns</p>\n",
       "</div>"
      ],
      "text/plain": [
       "             u      l             A             v            Ep   gp\n",
       "0        21269  21366  2.482800e-15    -27.139364  52019.156996  468\n",
       "1        21171  21463  5.131000e-15    -25.445631  52021.306254  468\n",
       "2        20476  20372  2.796900e-19    -17.833434  51379.977677  444\n",
       "3        20373  20475  7.835200e-19    -15.615441  51381.744635  444\n",
       "4        20270  20372  1.679300e-16    -14.558045  51383.253066  438\n",
       "...        ...    ...           ...           ...           ...  ...\n",
       "4596661   5428   5113  5.439400e+00  62174.135370  62655.689630  108\n",
       "4596662   5902   5271  5.258400e+00  62185.188907  62725.242710  114\n",
       "4596663   6060   5745  5.083000e+00  62196.547593  62798.438527  120\n",
       "4596664   6532   5903  4.913100e+00  62208.209857  62875.274330  126\n",
       "4596665   6689   6376  4.749000e+00  62220.174123  62955.747228  132\n",
       "\n",
       "[4596666 rows x 6 columns]"
      ]
     },
     "execution_count": 48,
     "metadata": {},
     "output_type": "execute_result"
    }
   ],
   "source": [
    "all_linelist_df = all_linelist(read_path)\n",
    "all_linelist_df"
   ]
  },
  {
   "cell_type": "markdown",
   "metadata": {},
   "source": [
    "# Parition Function\n"
   ]
  },
  {
   "cell_type": "code",
   "execution_count": 90,
   "metadata": {},
   "outputs": [],
   "source": [
    "def calculate_partition(En, gn, T):\n",
    "    partition_func = np.sum(gn * np.exp(-c2 * En / T))\n",
    "    return(partition_func)"
   ]
  },
  {
   "cell_type": "code",
   "execution_count": 91,
   "metadata": {},
   "outputs": [],
   "source": [
    "# Partition function\n",
    "def exomol_partition_func(read_path, Ntemp, Tmax):\n",
    "    \n",
    "    states_df = read_all_states(read_path)\n",
    "    En = states_df[1]\n",
    "    gn = states_df[2]\n",
    "    pf_list = []\n",
    "\n",
    "    for T in tqdm(range(Ntemp, Tmax+1, Ntemp)):\n",
    "        partition_func = calculate_partition(En, gn, T)\n",
    "        pf_list.append(str(format(T, '8.1f') + ' ' + format(partition_func, '15.4f')))\n",
    "        \n",
    "    pf_folder = save_path + '/partition/'\n",
    "    if os.path.exists(pf_folder):\n",
    "        pass\n",
    "    else:\n",
    "        os.makedirs(pf_folder, exist_ok=True)\n",
    "    pf_path = (pf_folder + isotopologue + '__' + dataset + '.pf')[0]\n",
    " \n",
    "    with open(pf_path, 'w') as pf_file:\n",
    "        for pf in pf_list:\n",
    "            pf_file.write(pf + '\\n')\n",
    "        pf_file.close()\n",
    "\n",
    "    print('Partition function has been saved!')  \n"
   ]
  },
  {
   "cell_type": "code",
   "execution_count": 92,
   "metadata": {},
   "outputs": [
    {
     "name": "stderr",
     "output_type": "stream",
     "text": [
      "100%|██████████| 5000/5000 [00:03<00:00, 1379.94it/s]"
     ]
    },
    {
     "name": "stdout",
     "output_type": "stream",
     "text": [
      "Partition function has been saved!\n",
      "Running time on CPU       : 3.7620672650000415 s\n",
      "Running time on system    : 3.773329496383667 s\n"
     ]
    },
    {
     "name": "stderr",
     "output_type": "stream",
     "text": [
      "\n"
     ]
    }
   ],
   "source": [
    "Ntemp = 1\n",
    "Tmax = int(5000.00)\n",
    "t = Timer()\n",
    "t.start()\n",
    "exomol_partition_func(read_path, Ntemp, Tmax)\n",
    "t.end()\n"
   ]
  },
  {
   "cell_type": "markdown",
   "metadata": {},
   "source": [
    "# Cooling Function"
   ]
  },
  {
   "cell_type": "code",
   "execution_count": 87,
   "metadata": {},
   "outputs": [],
   "source": [
    "@njit(parallel=True, fastmath=True)\n",
    "def calculate_cooling(A, v, Ep, gp, T, Q):\n",
    "    cooling_func = np.sum(A * h * c * v * gp * np.exp(-c2 * Ep / T)) / (4 * np.pi * Q) * 1e7\n",
    "    return(cooling_func)"
   ]
  },
  {
   "cell_type": "code",
   "execution_count": 88,
   "metadata": {},
   "outputs": [],
   "source": [
    "# Cooling function\n",
    "def exomol_cooling_func(read_path, Ntemp, Tmax):\n",
    "    \n",
    "    linelist_df = all_linelist(read_path)\n",
    "    A = linelist_df['A'].values\n",
    "    v = linelist_df['v'].values\n",
    "    Ep = linelist_df['Ep'].values      # Lower state energy\n",
    "    gp = linelist_df['gp'].values      # Total degeneracy of lower state \n",
    "    cf_list = []\n",
    "    \n",
    "    for T in tqdm(range(Ntemp, Tmax+1, Ntemp)):\n",
    "        Q_ref, Q = read_pf(read_path, T_ref, T)\n",
    "        cooling_func = calculate_cooling(A, v, Ep, gp, T, Q)\n",
    "        cf_list.append(str(format(T, '8.1f') + ' ' + format(cooling_func, '20.8E')))\n",
    "\n",
    "    cf_folder = save_path + '/cooling/'\n",
    "    if os.path.exists(cf_folder):\n",
    "        pass\n",
    "    else:\n",
    "        os.makedirs(cf_folder, exist_ok=True)  \n",
    "    cf_path = (cf_folder + isotopologue + '__' + dataset + '.cooling')[0]\n",
    "    \n",
    "    with open(cf_path, 'w') as cf_file:\n",
    "        for cf in cf_list:\n",
    "            cf_file.write(cf + '\\n')\n",
    "        cf_file.close()\n",
    "\n",
    "    print('Cooling function has been saved!')   \n",
    "    \n"
   ]
  },
  {
   "cell_type": "code",
   "execution_count": 89,
   "metadata": {},
   "outputs": [
    {
     "name": "stderr",
     "output_type": "stream",
     "text": [
      "100%|██████████| 1/1 [00:09<00:00,  9.39s/it]\n",
      "100%|██████████| 500/500 [00:03<00:00, 152.25it/s]"
     ]
    },
    {
     "name": "stdout",
     "output_type": "stream",
     "text": [
      "Cooling function has been saved!\n",
      "Running time on CPU       : 458.1526849070001 s\n",
      "Running time on system    : 15.38809871673584 s\n"
     ]
    },
    {
     "name": "stderr",
     "output_type": "stream",
     "text": [
      "\n"
     ]
    }
   ],
   "source": [
    "Ntemp = 1\n",
    "Tmax = int(500.00)\n",
    "t = Timer()\n",
    "t.start()\n",
    "exomol_cooling_func(read_path, Ntemp, Tmax)\n",
    "t.end()"
   ]
  },
  {
   "cell_type": "markdown",
   "metadata": {},
   "source": [
    "# Lifetime"
   ]
  },
  {
   "cell_type": "code",
   "execution_count": 82,
   "metadata": {},
   "outputs": [],
   "source": [
    "# Lifetime\n",
    "def exomol_lifetime(read_path):\n",
    "    \n",
    "    states_df = read_all_states(read_path)\n",
    "    trans_df = read_all_trans(read_path)\n",
    "    sum_A = trans_df.groupby('u')['A'].sum()\n",
    "    lifetime = 1 / sum_A\n",
    "    lt_df = lifetime.map('{: >12.4E}'.format).reset_index()\n",
    "    states_trans_df = pd.concat([states_df[0], lt_df['u']])\n",
    "    states_trans_df = states_trans_df.drop_duplicates(keep=False)\n",
    "    add_u = pd.DataFrame()\n",
    "    add_u['u'] = states_trans_df\n",
    "    add_u['A'] = '  Inf       '\n",
    "    lifetime_df = pd.concat([lt_df, add_u], ignore_index=True)\n",
    "    lifetime_df.sort_values('u',inplace=True)\n",
    "    \n",
    "    lf_folder = save_path + '/lifetime/'\n",
    "    if os.path.exists(lf_folder):\n",
    "        pass\n",
    "    else:\n",
    "        os.makedirs(lf_folder, exist_ok=True)  \n",
    "    lf_path = (lf_folder + isotopologue + '__' + dataset + '.life')[0]\n",
    "    lifetime_df['A'].to_csv(lf_path, header=None, index=False, chunksize = 1000)\n",
    "\n",
    "    print('lifetime has been saved!')   \n",
    "    return(lifetime_df)"
   ]
  },
  {
   "cell_type": "code",
   "execution_count": 83,
   "metadata": {},
   "outputs": [
    {
     "name": "stderr",
     "output_type": "stream",
     "text": [
      "100%|██████████| 1/1 [00:09<00:00,  9.63s/it]"
     ]
    },
    {
     "name": "stdout",
     "output_type": "stream",
     "text": [
      "lifetime has been saved!\n"
     ]
    },
    {
     "name": "stderr",
     "output_type": "stream",
     "text": [
      "\n"
     ]
    },
    {
     "data": {
      "text/html": [
       "<div>\n",
       "<style scoped>\n",
       "    .dataframe tbody tr th:only-of-type {\n",
       "        vertical-align: middle;\n",
       "    }\n",
       "\n",
       "    .dataframe tbody tr th {\n",
       "        vertical-align: top;\n",
       "    }\n",
       "\n",
       "    .dataframe thead th {\n",
       "        text-align: right;\n",
       "    }\n",
       "</style>\n",
       "<table border=\"1\" class=\"dataframe\">\n",
       "  <thead>\n",
       "    <tr style=\"text-align: right;\">\n",
       "      <th></th>\n",
       "      <th>u</th>\n",
       "      <th>A</th>\n",
       "    </tr>\n",
       "  </thead>\n",
       "  <tbody>\n",
       "    <tr>\n",
       "      <th>30810</th>\n",
       "      <td>1</td>\n",
       "      <td>Inf</td>\n",
       "    </tr>\n",
       "    <tr>\n",
       "      <th>0</th>\n",
       "      <td>2</td>\n",
       "      <td>8.3086E-02</td>\n",
       "    </tr>\n",
       "    <tr>\n",
       "      <th>1</th>\n",
       "      <td>3</td>\n",
       "      <td>4.2467E-02</td>\n",
       "    </tr>\n",
       "    <tr>\n",
       "      <th>2</th>\n",
       "      <td>4</td>\n",
       "      <td>2.8936E-02</td>\n",
       "    </tr>\n",
       "    <tr>\n",
       "      <th>3</th>\n",
       "      <td>5</td>\n",
       "      <td>2.2179E-02</td>\n",
       "    </tr>\n",
       "    <tr>\n",
       "      <th>...</th>\n",
       "      <td>...</td>\n",
       "      <td>...</td>\n",
       "    </tr>\n",
       "    <tr>\n",
       "      <th>30805</th>\n",
       "      <td>30807</td>\n",
       "      <td>2.2635E+00</td>\n",
       "    </tr>\n",
       "    <tr>\n",
       "      <th>30806</th>\n",
       "      <td>30808</td>\n",
       "      <td>2.2595E+00</td>\n",
       "    </tr>\n",
       "    <tr>\n",
       "      <th>30807</th>\n",
       "      <td>30809</td>\n",
       "      <td>2.1400E+00</td>\n",
       "    </tr>\n",
       "    <tr>\n",
       "      <th>30808</th>\n",
       "      <td>30810</td>\n",
       "      <td>2.2604E+00</td>\n",
       "    </tr>\n",
       "    <tr>\n",
       "      <th>30809</th>\n",
       "      <td>30811</td>\n",
       "      <td>2.1389E+00</td>\n",
       "    </tr>\n",
       "  </tbody>\n",
       "</table>\n",
       "<p>30811 rows × 2 columns</p>\n",
       "</div>"
      ],
      "text/plain": [
       "           u             A\n",
       "30810      1    Inf       \n",
       "0          2    8.3086E-02\n",
       "1          3    4.2467E-02\n",
       "2          4    2.8936E-02\n",
       "3          5    2.2179E-02\n",
       "...      ...           ...\n",
       "30805  30807    2.2635E+00\n",
       "30806  30808    2.2595E+00\n",
       "30807  30809    2.1400E+00\n",
       "30808  30810    2.2604E+00\n",
       "30809  30811    2.1389E+00\n",
       "\n",
       "[30811 rows x 2 columns]"
      ]
     },
     "execution_count": 83,
     "metadata": {},
     "output_type": "execute_result"
    }
   ],
   "source": [
    "exomol_lifetime(read_path)"
   ]
  },
  {
   "cell_type": "markdown",
   "metadata": {},
   "source": [
    "# Specific Heat"
   ]
  },
  {
   "cell_type": "code",
   "execution_count": 76,
   "metadata": {},
   "outputs": [],
   "source": [
    "@njit(parallel=True, fastmath=True)\n",
    "def calculate_specific_heat(En, gn, T):\n",
    "    pf = np.sum(gn * np.exp(-c2 * En / T))  \n",
    "    pfp = np.sum(gn * np.exp(-c2 * En / T) * (c2 * En / T))\n",
    "    pfpp = np.sum(gn * np.exp(-c2 * En / T) * (c2 * En / T) ** 2)\n",
    "    specificheat_func = R * (pfpp / pf - (pfp / pf) ** 2) + 2.5 * R\n",
    "    return(specificheat_func)"
   ]
  },
  {
   "cell_type": "code",
   "execution_count": 93,
   "metadata": {},
   "outputs": [],
   "source": [
    "# Specific heat\n",
    "def exomol_specificheat_func(read_path, Ntemp, Tmax):\n",
    "\n",
    "    states_df = read_all_states(read_path)\n",
    "    En = states_df[1].values\n",
    "    gn = states_df[2].values\n",
    "    cp_list = []\n",
    "    \n",
    "    for T in tqdm(range(200, Tmax+1, Ntemp)):\n",
    "        specificheat_func = calculate_specific_heat(En, gn, T)\n",
    "        cp_list.append(str(format(T, '8.1f') + ' ' + format(specificheat_func, '15.4f')))\n",
    "        \n",
    "    cp_folder = save_path + '/specific_heat/'\n",
    "    if os.path.exists(cp_folder):\n",
    "        pass\n",
    "    else:\n",
    "        os.makedirs(cp_folder, exist_ok=True)  \n",
    "    cp_path = (cp_folder + isotopologue + '__' + dataset + '.cp')[0]\n",
    " \n",
    "    with open(cp_path, 'w') as cp_file:\n",
    "        for cp in cp_list:\n",
    "            cp_file.write(cp + '\\n')\n",
    "        cp_file.close()\n",
    "\n",
    "    print('Specific heat has been saved!')  \n"
   ]
  },
  {
   "cell_type": "code",
   "execution_count": 94,
   "metadata": {},
   "outputs": [
    {
     "name": "stderr",
     "output_type": "stream",
     "text": [
      "100%|██████████| 4801/4801 [00:01<00:00, 3000.94it/s]"
     ]
    },
    {
     "name": "stdout",
     "output_type": "stream",
     "text": [
      "Specific heat has been saved!\n",
      "Running time on CPU       : 269.1230633160003 s\n",
      "Running time on system    : 1.7526650428771973 s\n"
     ]
    },
    {
     "name": "stderr",
     "output_type": "stream",
     "text": [
      "\n"
     ]
    }
   ],
   "source": [
    "Ntemp = 1\n",
    "Tmax = int(5000.0)\n",
    "t = Timer()\n",
    "t.start()\n",
    "exomol_specificheat_func(read_path, Ntemp, Tmax)\n",
    "t.end()\n"
   ]
  },
  {
   "cell_type": "markdown",
   "metadata": {},
   "source": [
    "## Line Profile"
   ]
  },
  {
   "cell_type": "code",
   "execution_count": 21,
   "metadata": {},
   "outputs": [],
   "source": [
    "@njit(parallel=True, fastmath=True)\n",
    "def Doppler_HWHM (v, mass, T):\n",
    "    '''Return the Doppler half-width at half-maximum (HWHM) -- alpha.'''\n",
    "    alpha = np.sqrt(2 * kB * T * np.log(2) / mass) * v / c\n",
    "    return alpha"
   ]
  },
  {
   "cell_type": "code",
   "execution_count": 22,
   "metadata": {},
   "outputs": [],
   "source": [
    "@njit(parallel=True, fastmath=True)\n",
    "def Lorentzian_HWHM (T, P, n_air, gamma_L):\n",
    "    '''Return the Lorentzian half-width at half-maximum (HWHM) -- gamma.'''\n",
    "    gamma = gamma_L * ratio * (T_ref / T)**n_air * (P / P_ref)\n",
    "    \n",
    "    return gamma"
   ]
  },
  {
   "cell_type": "code",
   "execution_count": 23,
   "metadata": {},
   "outputs": [],
   "source": [
    "@njit(parallel=True, fastmath=True)\n",
    "def Gaussian_FWHM (alpha):\n",
    "    f_G = 2 * alpha * np.sqrt(2 * np.log(2))\n",
    "    return(f_G)"
   ]
  },
  {
   "cell_type": "code",
   "execution_count": 24,
   "metadata": {},
   "outputs": [],
   "source": [
    "@njit(parallel=True, fastmath=True)\n",
    "def Lorentzian_FWHM (gamma):\n",
    "    f_L = 2 * gamma\n",
    "    return(f_L)"
   ]
  },
  {
   "cell_type": "code",
   "execution_count": 25,
   "metadata": {},
   "outputs": [],
   "source": [
    "@njit(parallel=True, fastmath=True)\n",
    "def Gaussian_profile(dv, alpha):\n",
    "    '''Return Gaussian line profile at dv with HWHM alpha.'''\n",
    "    alpha = alpha * 2\n",
    "    Gaussian_profile = np.sqrt(np.log(2) / np.pi) / alpha * np.exp(-np.log(2) * (dv / alpha)**2)\n",
    "    return Gaussian_profile"
   ]
  },
  {
   "cell_type": "code",
   "execution_count": 26,
   "metadata": {},
   "outputs": [],
   "source": [
    "@njit(parallel=True, fastmath=True)\n",
    "def Lorentzian_profile(dv, gamma):\n",
    "    '''Return Lorentzian line profile at dv with HWHM gamma.'''\n",
    "    #gamma = gamma * 2\n",
    "    Lorentzian_profile = gamma / np.pi / (dv**2 + gamma**2)\n",
    "    return Lorentzian_profile\n"
   ]
  },
  {
   "cell_type": "code",
   "execution_count": 27,
   "metadata": {},
   "outputs": [],
   "source": [
    "def scipy_Voigt_profile(dv, alpha, gamma):\n",
    "    '''Return the Voigt line profile with Lorentzian component HWHM gamma and Gaussian component HWHM alpha.'''\n",
    "    from scipy.special import voigt_profile\n",
    "    return voigt_profile(dv, alpha, gamma)"
   ]
  },
  {
   "cell_type": "code",
   "execution_count": 28,
   "metadata": {},
   "outputs": [],
   "source": [
    "def scipy_wofz_Voigt_profile(dv, alpha, gamma):\n",
    "    '''Return the Voigt line profile with Lorentzian component HWHM gamma and Gaussian component HWHM alpha.'''\n",
    "    from scipy.special import wofz\n",
    "    sigma = alpha / np.sqrt(2 * np.log(2))\n",
    "    scipy_wofz_Voigt_profile = np.real(wofz((dv + 1j*gamma)/sigma/np.sqrt(2))) / sigma / np.sqrt(2*np.pi)\n",
    "    return scipy_wofz_Voigt_profile"
   ]
  },
  {
   "cell_type": "code",
   "execution_count": 29,
   "metadata": {},
   "outputs": [],
   "source": [
    "@njit(parallel=True, fastmath=True)\n",
    "def width_Voigt_profile(f_G, f_L):\n",
    "    '''\n",
    "    Return the full width at half maximum (FWHM) of the Voigt profile which can\n",
    "    be found from the widths of the associated Gaussian and Lorentzian widths.\n",
    "\n",
    "    '''\n",
    "    width_Voigt_profile = 0.5346 * f_L + np.sqrt(0.2166 * f_L**2 + f_G**2)\n",
    "    return width_Voigt_profile"
   ]
  },
  {
   "cell_type": "code",
   "execution_count": 30,
   "metadata": {},
   "outputs": [],
   "source": [
    "@njit(parallel=True, fastmath=True)\n",
    "def pseudo_Voigt_profile(f_G, f_L):\n",
    "    '''Return the Voigt line profile with Lorentzian component HWHM gamma and Gaussian component HWHM alpha.'''\n",
    "    pseudo_Voigt_profile = (f_G**5+2.69269*f_G**4*f_L+2.42843*f_G**3*f_L**2+4.47163*f_G**2*f_L**3+0.07842*f_G*f_L**4+f_L**5)**0.2\n",
    "    return pseudo_Voigt_profile"
   ]
  },
  {
   "cell_type": "code",
   "execution_count": 31,
   "metadata": {},
   "outputs": [],
   "source": [
    "@njit(parallel=True, fastmath=True)\n",
    "def pseudo_Voigt_FWHM_profile(dv, alpha, gamma):\n",
    "    '''\n",
    "    Return the Voigt line profile with Lorentzian component HWHM gamma and Gaussian component HWHM alpha.\n",
    "    f is the total FWHM parameter.\n",
    "    n is a function of Lorentz (f_L), Gaussian (f_G) and total (f) full width at half maximum (FWHM) parameters.\n",
    "    \n",
    "    '''\n",
    "    f_G = 2 * alpha * np.sqrt(2 * np.log(2))\n",
    "    f_L = 2 * gamma\n",
    "    f = (f_G**5 + 2.69269*f_G**4*f_L + 2.42843*f_G**3*f_L**2 + 4.47163*f_G**2*f_L**3 + 0.07842*f_G*f_L**4 + f_L**5)**0.2\n",
    "    n = 1.36603*(f_L/f) - 0.47719*(f_L/f)**2 + 0.11116*(f_L/f)**3\n",
    "    pseudo_fwhm_Voigt_profile = n*Lorentzian_profile(dv,f/2) + (1-n)*Gaussian_profile(dv,f/2)\n",
    "    return pseudo_fwhm_Voigt_profile"
   ]
  },
  {
   "cell_type": "code",
   "execution_count": 32,
   "metadata": {},
   "outputs": [],
   "source": [
    "@njit(parallel=True, fastmath=True)\n",
    "def pseudo_Voigt_FWHM_profile(dv, f_G, f_L):\n",
    "    '''\n",
    "    Return the Voigt line profile with Lorentzian component HWHM gamma and Gaussian component HWHM alpha.\n",
    "    f is the total FWHM parameter.\n",
    "    n is a function of Lorentz (f_L), Gaussian (f_G) and total (f) full width at half maximum (FWHM) parameters.\n",
    "    \n",
    "    '''\n",
    "    f = (f_G**5 + 2.69269*f_G**4*f_L + 2.42843*f_G**3*f_L**2 + 4.47163*f_G**2*f_L**3 + 0.07842*f_G*f_L**4 + f_L**5)**0.2\n",
    "    n = 1.36603*(f_L/f) - 0.47719*(f_L/f)**2 + 0.11116*(f_L/f)**3\n",
    "    pseudo_fwhm_Voigt_profile = n*Lorentzian_profile(dv,f/2) + (1-n)*Gaussian_profile(dv,f/2)\n",
    "    return pseudo_fwhm_Voigt_profile"
   ]
  },
  {
   "cell_type": "markdown",
   "metadata": {},
   "source": [
    "## Calculate Cross Sections"
   ]
  },
  {
   "cell_type": "code",
   "execution_count": 33,
   "metadata": {},
   "outputs": [],
   "source": [
    "@njit(parallel=True, fastmath=True)\n",
    "def cal_abscoefs(v, gp, A, Epp, Q, abundance):\n",
    "    abscoef = gp * A * np.exp(- c2_T * Epp) * (1 - np.exp(- c2_T * v)) * pi_c_8 / (v ** 2) / Q * abundance   \n",
    "    return (abscoef)"
   ]
  },
  {
   "cell_type": "code",
   "execution_count": 34,
   "metadata": {},
   "outputs": [],
   "source": [
    "@njit(parallel=True, fastmath=True)\n",
    "def cal_emicoefs(v, gp, A, Ep, Q, abundance):\n",
    "    emicoef = gp * A * v * np.exp(- c2_T * Ep) / (4 * np.pi * Q) * abundance   \n",
    "    return (emicoef)"
   ]
  },
  {
   "cell_type": "code",
   "execution_count": 35,
   "metadata": {},
   "outputs": [],
   "source": [
    "def exomol_cross_section_Gaussian(wn_grid, v, alpha, coef):\n",
    "    '''\n",
    "    Read ExoMol .states, .trans, .pf and .broad files as the input files.\n",
    "    Return the wavennumbers and cross sections with Gaussian profile.\n",
    "    \n",
    "    '''\n",
    "    xsec_g = np.zeros_like(wn_grid)\n",
    "    _xsec_g = np.zeros_like(wn_grid)\n",
    "    \n",
    "    for i in range(N_point):\n",
    "        dv = wn_grid[i] - v\n",
    "        filter_cutoff = np.abs(dv) <=cutoff\n",
    "        _dv = np.array(dv[filter_cutoff])\n",
    "        _alpha = np.array(alpha[filter_cutoff])\n",
    "        _coef = coef[filter_cutoff]\n",
    "        _xsec_g[i] = np.sum(_coef * Gaussian_profile(_dv, _alpha))        \n",
    "\n",
    "    xsec_g[0:N_point] += _xsec_g\n",
    "    return (xsec_g)"
   ]
  },
  {
   "cell_type": "code",
   "execution_count": 36,
   "metadata": {},
   "outputs": [],
   "source": [
    "def exomol_cross_section_Lorentzian(wn_grid, v, gamma, coef):\n",
    "    '''\n",
    "    Read ExoMol .states, .trans, .pf and .broad files as the input files.\n",
    "    Return the wavennumbers and cross sections with Lorentzian profile.\n",
    "    \n",
    "    '''\n",
    "    xsec_l = np.zeros_like(wn_grid)\n",
    "    _xsec_l = np.zeros_like(wn_grid)\n",
    "    \n",
    "    for i in range(N_point):\n",
    "        dv = wn_grid[i] - v\n",
    "        filter_cutoff = np.abs(dv) <=cutoff\n",
    "        _dv = np.array(dv[filter_cutoff])\n",
    "        _gamma = np.array(gamma[filter_cutoff])\n",
    "        _coef = coef[filter_cutoff]\n",
    "        _xsec_l[i] = np.sum(_coef * Lorentzian_profile(_dv, _gamma))        \n",
    "\n",
    "    xsec_l[0:N_point] += _xsec_l\n",
    "    return (xsec_l)"
   ]
  },
  {
   "cell_type": "code",
   "execution_count": 37,
   "metadata": {},
   "outputs": [],
   "source": [
    "def exomol_cross_section_scipy_Voigt(wn_grid, v, alpha, gamma, coef):\n",
    "    '''\n",
    "    Read ExoMol .states, .trans, .pf and .broad files as the input files.\n",
    "    Return the wavennumbers and cross sections with scipy Voigt profile.\n",
    "    \n",
    "    '''\n",
    "    xsec_sv = np.zeros_like(wn_grid)\n",
    "    _xsec_sv = np.zeros_like(wn_grid)\n",
    "\n",
    "    for i in range(N_point):\n",
    "        dv = wn_grid[i] - v\n",
    "        filter_cutoff = np.abs(dv) <=cutoff\n",
    "        _dv = dv[filter_cutoff]\n",
    "        _alpha = alpha[filter_cutoff]\n",
    "        _gamma = gamma[filter_cutoff]\n",
    "        _coef = coef[filter_cutoff]\n",
    "        _xsec_sv[i] = np.sum(_coef * scipy_Voigt_profile(_dv, _alpha, _gamma))\n",
    "\n",
    "    xsec_sv[0:N_point] += _xsec_sv\n",
    "    return (xsec_sv)"
   ]
  },
  {
   "cell_type": "code",
   "execution_count": 38,
   "metadata": {},
   "outputs": [],
   "source": [
    "def exomol_cross_section_scipy_wofz_Voigt(wn_grid, v, alpha, gamma, coef):\n",
    "    '''\n",
    "    Read ExoMol .states, .trans, .pf and .broad files as the input files.\n",
    "    Return the wavennumbers and cross sections with wofz Voigt profile.\n",
    "\n",
    "    '''\n",
    "    xsec_swv = np.zeros_like(wn_grid)\n",
    "    _xsec_swv = np.zeros_like(wn_grid)\n",
    "\n",
    "    for i in range(N_point):\n",
    "        dv = wn_grid[i] - v\n",
    "        filter_cutoff = np.abs(dv) <=cutoff\n",
    "        _dv = dv[filter_cutoff]\n",
    "        _alpha = alpha[filter_cutoff]\n",
    "        _gamma = gamma[filter_cutoff]\n",
    "        _coef = coef[filter_cutoff]\n",
    "        _xsec_swv[i] = np.sum(_coef * scipy_wofz_Voigt_profile(_dv, _alpha, _gamma))\n",
    "\n",
    "    xsec_swv[0:N_point] += _xsec_swv\n",
    "    return (xsec_swv)"
   ]
  },
  {
   "cell_type": "code",
   "execution_count": 39,
   "metadata": {},
   "outputs": [],
   "source": [
    "def exomol_cross_section_width_Voigt(wn_grid, v, alpha, gamma, coef):\n",
    "    '''\n",
    "    Read ExoMol .states, .trans, .pf and .broad files as the input files.\n",
    "    Return the wavennumbers and cross sections with width Voigt profile.\n",
    "\n",
    "    '''\n",
    "    xsec_wv = np.zeros_like(wn_grid)\n",
    "    _xsec_wv = np.zeros_like(wn_grid)\n",
    "\n",
    "    for i in range(N_point):\n",
    "        dv = wn_grid[i] - v\n",
    "        filter_cutoff = np.abs(dv) <=cutoff\n",
    "        _dv = dv[filter_cutoff]\n",
    "        _alpha = alpha[filter_cutoff]\n",
    "        _gamma = gamma[filter_cutoff]\n",
    "        f_G = Gaussian_profile(_dv, _alpha)\n",
    "        f_L = Lorentzian_profile(_dv, _gamma)\n",
    "        _coef = coef[filter_cutoff]\n",
    "        _xsec_wv[i] = np.sum(_coef * width_Voigt_profile(f_G, f_L))\n",
    "\n",
    "    xsec_wv[0:N_point] += _xsec_wv\n",
    "    return (xsec_wv)"
   ]
  },
  {
   "cell_type": "code",
   "execution_count": 40,
   "metadata": {},
   "outputs": [],
   "source": [
    "def exomol_cross_section_pseudo_Voigt(wn_grid, v, alpha, gamma, coef):\n",
    "    '''\n",
    "    Read ExoMol .states, .trans, .pf and .broad files as the input files.\n",
    "    Return the wavennumbers and cross sections with width Voigt profile.\n",
    "\n",
    "    '''\n",
    "    xsec_pv = np.zeros_like(wn_grid)\n",
    "    _xsec_pv = np.zeros_like(wn_grid)\n",
    "\n",
    "    for i in range(N_point):\n",
    "        dv = wn_grid[i] - v\n",
    "        filter_cutoff = np.abs(dv) <=cutoff\n",
    "        _dv = dv[filter_cutoff]\n",
    "        _alpha = alpha[filter_cutoff]\n",
    "        _gamma = gamma[filter_cutoff]\n",
    "        f_G = Gaussian_profile(_dv, _alpha)\n",
    "        f_L = Lorentzian_profile(_dv, _gamma)\n",
    "        _coef = coef[filter_cutoff]\n",
    "        _xsec_pv[i] = np.sum(_coef * pseudo_Voigt_profile(f_G, f_L))\n",
    "\n",
    "    xsec_pv[0:N_point] += _xsec_pv\n",
    "    return (xsec_pv)"
   ]
  },
  {
   "cell_type": "code",
   "execution_count": 41,
   "metadata": {},
   "outputs": [],
   "source": [
    "def exomol_cross_section_pseudo_FWHM_Voigt(wn_grid, v, alpha, gamma, coef):\n",
    "    '''\n",
    "    Read ExoMol .states, .trans, .pf and .broad files as the input files.\n",
    "    Return the wavennumbers and cross sections with width Voigt profile.\n",
    "\n",
    "    '''\n",
    "    xsec_pfv = np.zeros_like(wn_grid)\n",
    "    _xsec_pfv = np.zeros_like(wn_grid)\n",
    "\n",
    "    for i in range(N_point):\n",
    "        dv = wn_grid[i] - v\n",
    "        filter_cutoff = np.abs(dv) <=cutoff\n",
    "        _dv = dv[filter_cutoff]\n",
    "        _alpha = alpha[filter_cutoff]\n",
    "        _gamma = gamma[filter_cutoff]\n",
    "        f_G = Gaussian_FWHM(_alpha)\n",
    "        f_L = Lorentzian_FWHM(_gamma)\n",
    "        _coef = coef[filter_cutoff]\n",
    "        _xsec_pfv[i] = np.sum(_coef * pseudo_Voigt_FWHM_profile(_dv, f_G, f_L))\n",
    "\n",
    "    xsec_pfv[0:N_point] += _xsec_pfv\n",
    "    return (xsec_pfv)"
   ]
  },
  {
   "cell_type": "markdown",
   "metadata": {},
   "source": [
    "## Plot and Save Results"
   ]
  },
  {
   "cell_type": "code",
   "execution_count": 42,
   "metadata": {},
   "outputs": [],
   "source": [
    "def plot_xsec(wn, xsec, database, profile):\n",
    "    print('{:25s} : {}'.format('Air broading is', ratio_air))\n",
    "    print('{:25s} : {}'.format('Self broading is', ratio_self))\n",
    "    print('{:25s} : {:<6}'.format('Temperature selected', T), 'K')\n",
    "    print('{:25s} : {:<6}'.format('Pressure selected', P), 'bar')\n",
    "    if (wn_wl == 'wn'):\n",
    "        print('{:25s} : {:<6}'.format('Cutoff is', cutoff), 'cm-1')\n",
    "        print('{:25s} : {:<6}'.format('Threshold is', threshold), 'cm-1/(molecule cm-2)')\n",
    "        print('{:25s} : {} {} {} {}'.format('Wavenumber range selected', min_wn, 'cm-1 -', max_wn, 'cm-1'))\n",
    "        \n",
    "        # Plot cross sections and save it as .png.\n",
    "        plt.plot(wn, xsec, label='T = '+str(T)+' K, '+profile)\n",
    "        plt.title(database+' '+molecule+' '+abs_emi+' Cross-Section with '+ profile) \n",
    "        plt.xlabel('Wavenumber, cm$^{-1}$')\n",
    "        plt.ylabel('Cross-section, cm$^{2}$/molecule')\n",
    "        plt.legend()\n",
    "        plots_foldername = saveplots+molecule+'/'\n",
    "        if os.path.exists(plots_foldername):\n",
    "            pass\n",
    "        else:\n",
    "            os.makedirs(plots_foldername, exist_ok=True)    \n",
    "        plt.savefig(plots_foldername+molecule+'__T'+str(T)+'__'+str(min_wn)+'-'+str(max_wn)+'cm-1__'\n",
    "                    +database+'__'+abs_emi+'__'+profile+'.png', dpi=500)\n",
    "        plt.show()\n",
    "        print('Cross sections plot saved.')\n",
    "\n",
    "        # Save cross sections into .xsec file.\n",
    "        xsec_df = pd.DataFrame()\n",
    "        xsec_df['wavenumber'] = wn\n",
    "        xsec_df['cross-section'] = xsec\n",
    "        xsecs_foldername = savexsecs+molecule+'/'\n",
    "        if os.path.exists(xsecs_foldername):\n",
    "            pass\n",
    "        else:\n",
    "            os.makedirs(xsecs_foldername, exist_ok=True)\n",
    "        xsec_filename = (xsecs_foldername+molecule+'__T'+str(T)+'__'+str(min_wn)+'-'+str(max_wn)+'cm-1__'\n",
    "                         +database+'__'+abs_emi+'__'+profile+'.xsec')\n",
    "        np.savetxt(xsec_filename, np.vstack((wn,xsec)).T)\n",
    "        print('Cross sections file saved.')\n",
    "        \n",
    "    elif wn_wl == 'wl':\n",
    "        wl = 10**7 / wn\n",
    "        min_wl = 10**7 / min_wn\n",
    "        max_wl = 10**7 / max_wn\n",
    "        print('{:25s} : {:<6}'.format('Cutoff is', 10**7 / cutoff), 'nm')\n",
    "        print('{:25s} : {:<6}'.format('Threshold is', 10**7 / threshold), 'nm/(molecule nm2)')\n",
    "        print('{:25s} : {} {} {} {}'.format('Wavelength range selected', min_wl, 'nm -', max_wl, 'nm'))\n",
    "\n",
    "        # Plot cross sections and save it as .png.\n",
    "        plt.plot(wl, xsec, label='T = '+str(T)+' K, '+profile)\n",
    "        plt.title(database+' '+molecule+' '+abs_emi+' Cross-Section with '+ profile) \n",
    "        plt.xlabel('Wavelength, nm')\n",
    "        plt.ylabel('Cross-section, nm$^{-2}$/molecule')\n",
    "        plt.legend()\n",
    "        plots_foldername = saveplots+molecule+'/'\n",
    "        if os.path.exists(plots_foldername):\n",
    "            pass\n",
    "        else:\n",
    "            os.makedirs(plots_foldername, exist_ok=True)    \n",
    "        plt.savefig(plots_foldername+molecule+'__T'+str(T)+'__'+str(min_wl)+'-'+str(max_wl)+'nm__'\n",
    "                    +database+'__'+abs_emi+'__'+profile+'.png', dpi=500)\n",
    "        plt.show()\n",
    "        print('Cross sections plot saved.')\n",
    "        \n",
    "        # Save cross sections into .xsec file.\n",
    "        xsec_df = pd.DataFrame()\n",
    "        xsec_df['wavelength'] = wl\n",
    "        xsec_df['cross-section'] = xsec\n",
    "        xsecs_foldername = savexsecs+molecule+'/'\n",
    "        if os.path.exists(xsecs_foldername):\n",
    "            pass\n",
    "        else:\n",
    "            os.makedirs(xsecs_foldername, exist_ok=True)\n",
    "        xsec_filename = (xsecs_foldername+molecule+'__T'+str(T)+'__'+str(min_wl)+'-'+str(max_wl)+'nm__'\n",
    "                         +database+'__'+abs_emi+'__'+profile+'.xsec')\n",
    "        np.savetxt(xsec_filename, np.vstack((wl,xsec)).T)\n",
    "        print('Cross sections file saved.')\n",
    "\n",
    "    else:\n",
    "        print('Please type in correct format: wn or wl.')"
   ]
  },
  {
   "cell_type": "markdown",
   "metadata": {},
   "source": [
    "## Get Results"
   ]
  },
  {
   "cell_type": "code",
   "execution_count": 43,
   "metadata": {},
   "outputs": [],
   "source": [
    "def part_linelist(read_path, trans_df):\n",
    "    states_df = read_all_states(read_path)\n",
    "    Q_ref, Q = read_pf(read_path, T_ref, T)\n",
    "    broad_df = read_broad(read_path)\n",
    "    id_u = trans_df['u'].values\n",
    "    id_l = trans_df['l'].values\n",
    "    states_df.set_index([0], inplace=True, drop=False)\n",
    "    states_u_df = states_df.loc[id_u]\n",
    "    states_l_df = states_df.loc[id_l]\n",
    "    A = trans_df['A'].values\n",
    "    v = trans_df['v'].values\n",
    "    Ep = states_u_df[1].values\n",
    "    Epp = states_l_df[1].values\n",
    "    gp = states_u_df[2].values\n",
    "    linelist_df = pd.DataFrame()\n",
    "    max_broad_J = max(broad_df['Jpp'])\n",
    "    linelist_df['Jpp'] = states_l_df[3].values\n",
    "    linelist_df['Jpp'][linelist_df.Jpp > max_broad_J] = max_broad_J\n",
    "    Jpp = linelist_df['Jpp'].values\n",
    "    id_broad = linelist_df['Jpp'] - 0.5\n",
    "    gamma_L = broad_df['gamma_L'][id_broad].values\n",
    "    n_air = broad_df['n_air'][id_broad].values\n",
    "    wn_grid = np.linspace(min_wn, max_wn, N_point)\n",
    "    \n",
    "    return (wn_grid, Q, A, v, Ep, Epp, gp, Jpp, gamma_L, n_air)"
   ]
  },
  {
   "cell_type": "code",
   "execution_count": 44,
   "metadata": {},
   "outputs": [],
   "source": [
    "def get_results(trans_df):\n",
    "    if database == 'ExoMol':\n",
    "        #states_df = read_all_states(read_path)\n",
    "        #Q_ref, Q = read_pf(read_path, T_ref, T)\n",
    "        #broad_df = read_broad(read_path)\n",
    "        wn_grid, Q, A, v, Ep, Epp, gp, Jpp, gamma_L, n_air = part_linelist(read_path, trans_df)\n",
    "\n",
    "    elif database == 'HITRAN':\n",
    "        print('Please run the code in folder HITRAN_format.')\n",
    "        \n",
    "    else:\n",
    "        print('Please add the name of the database HITRAN or ExoMol into the input file.')\n",
    "    \n",
    "    if abs_emi == 'Absorption':\n",
    "        coef = cal_abscoefs(v, gp, A, Epp, Q, abundance)\n",
    "    else:\n",
    "        coef = cal_emicoefs(v, gp, A, Ep, Q, abundance)\n",
    "    \n",
    "    if profile == 'Gaussian':\n",
    "        alpha = Doppler_HWHM (v, mass, T)\n",
    "        xsec_g = exomol_cross_section_Gaussian(wn_grid, v, alpha, coef)\n",
    "        plot_xsec(wn_grid, xsec_g, database, profile)\n",
    "    elif profile == 'Lorentzian':\n",
    "        gamma = Lorentzian_HWHM (T, P, n_air, gamma_L)\n",
    "        xsec_l = exomol_cross_section_Lorentzian(wn_grid, v, gamma, coef)\n",
    "        plot_xsec(wn_grid, xsec_l, database, profile)\n",
    "    else:\n",
    "        alpha = Doppler_HWHM (v, mass, T)\n",
    "        gamma = Lorentzian_HWHM (T, P, n_air, gamma_L)\n",
    "    if profile == 'SciPyVoigt':\n",
    "        xsec_sv = exomol_cross_section_scipy_Voigt(wn_grid, v, alpha, gamma, coef)\n",
    "        plot_xsec(wn_grid, xsec_sv, database, profile)\n",
    "    elif profile == 'SciPyWofzVoigt':\n",
    "        xsec_swv = exomol_cross_section_scipy_wofz_Voigt(wn_grid, v, alpha, gamma, coef)\n",
    "        plot_xsec(wn_grid, xsec_swv, database, profile)\n",
    "    elif profile == 'WidthVoigt':\n",
    "        xsec_wv = exomol_cross_section_width_Voigt(wn_grid, v, alpha, gamma, coef)\n",
    "        plot_xsec(wn_grid, xsec_wv, database, profile)\n",
    "    elif profile == 'PseudoVoigt':\n",
    "        xsec_pv = exomol_cross_section_pseudo_Voigt(wn_grid, v, alpha, gamma, coef)        \n",
    "        plot_xsec(wn_grid, xsec_pv, database, profile)\n",
    "    elif profile == 'PseudoFWHMVoigt':\n",
    "        xsec_pfv = exomol_cross_section_pseudo_FWHM_Voigt(wn_grid, v, alpha, gamma, coef)\n",
    "        plot_xsec(wn_grid, xsec_pfv, database, profile)\n",
    "    else:\n",
    "        print('Please choose line profile from the list.')\n",
    "    pass"
   ]
  },
  {
   "cell_type": "code",
   "execution_count": 45,
   "metadata": {},
   "outputs": [
    {
     "name": "stdout",
     "output_type": "stream",
     "text": [
      "Finished!\n",
      "Running time on CPU       : 4.4850672950000074 s\n",
      "Running time on system    : 4.4720375537872314 s\n"
     ]
    }
   ],
   "source": [
    "t = Timer()\n",
    "t.start()\n",
    "\n",
    "# Initialise the iterator object.\n",
    "trans_col_name = ['u', 'l', 'A', 'v']\n",
    "trans_filenames = glob.glob((read_path + molecule + '/' + isotopologue + '/' + dataset + '/' + '*trans.bz2')[0])\n",
    "if len(trans_filenames) == 1:\n",
    "    transfile_df = pd.read_csv(trans_filenames[0], compression='bz2', sep='\\s+', header=None, \n",
    "                             names=trans_col_name, chunksize=100_000_000, encoding='utf-8')\n",
    "\n",
    "else:\n",
    "    for trans_filename in tqdm(trans_filenames):\n",
    "        lower = int(trans_filename.split('__')[2].split('.')[0].split('-')[0])\n",
    "        upper = int(trans_filename.split('__')[2].split('.')[0].split('-')[1]) \n",
    "        if (lower <= int(min_wn) <= upper):\n",
    "            lowerfile = pd.read_csv(trans_filename, compression='bz2', sep='\\s+', header=None, \n",
    "                                    names=trans_col_name, chunksize=100_000_000, encoding='utf-8')       \n",
    "            #for lower_chunk in lowerfile:\n",
    "            #    lower_chunk = lower_chunk[lower_chunk['v'].between(min_wn - cutoff, max_wn + cutoff)]     \n",
    "\n",
    "        elif (lower <= int(max_wn) <= upper):\n",
    "            upperfile = pd.read_csv(trans_filename, compression='bz2', sep='\\s+', header=None, \n",
    "                                    names=trans_col_name, chunksize=100_000_000, encoding='utf-8')       \n",
    "            #for upper_chunk in upperfile:\n",
    "            #    upper_chunk = upper_chunk[upper_chunk['v'].between(min_wn - cutoff, max_wn + cutoff)]     \n",
    "    \n",
    "        elif (lower >= int(min_wn) and upper <= int(max_wn)):\n",
    "            insiderfile = pd.read_csv(trans_filename, compression='bz2', sep='\\s+', header=None, \n",
    "                                      names=trans_col_name, chunksize=100_000_000, encoding='utf-8')     \n",
    "        transfile_df = lowerfile.append(insiderfile).append(upperfile)         \n",
    "        \n",
    "# Depends on how many cores you want to utilise.\n",
    "# Reserve 64 cores for our script.\n",
    "max_processors = 4       \n",
    "pool = multiprocessing.Pool(processes=max_processors)\n",
    "f_list = []\n",
    "for trans_df in transfile_df:\n",
    "    trans_df = trans_df[trans_df['v'].between(min_wn - cutoff, max_wn + cutoff)] \n",
    "    f = pool.apply_async(get_results, [trans_df])\n",
    "    if len(pool._cache) > max_processors * 200:\n",
    "        f.wait()\n",
    "    f_list.append(f)\n",
    "    if len(f_list) >= max_processors:\n",
    "        for f in f_list:\n",
    "            f.get()\n",
    "            del f_list[:]\n",
    "pool.close()\n",
    "print('Finished!')\n",
    "t.end()"
   ]
  },
  {
   "cell_type": "markdown",
   "metadata": {},
   "source": [
    "# Test\n",
    "\n",
    "## Plot At The Same T With Different Line Profile"
   ]
  },
  {
   "cell_type": "code",
   "execution_count": 46,
   "metadata": {},
   "outputs": [
    {
     "name": "stderr",
     "output_type": "stream",
     "text": [
      "OMP: Info #276: omp_set_nested routine deprecated, please use omp_set_max_active_levels instead.\n",
      "OMP: Info #276: omp_set_nested routine deprecated, please use omp_set_max_active_levels instead.\n"
     ]
    }
   ],
   "source": [
    "T=500\n",
    "wn_grid, Q, A, v, Ep, Epp, gp, Jpp, gamma_L, n_air = part_linelist(read_path, trans_df)\n",
    "coef = cal_abscoefs(v, gp, A, Epp, Q, abundance)\n",
    "#coef = cal_emicoefs(v, gp, A, Ep, Q, abundance)\n",
    "alpha = Doppler_HWHM (v, mass, T)\n",
    "gamma = Lorentzian_HWHM (T, P, n_air, gamma_L)"
   ]
  },
  {
   "cell_type": "code",
   "execution_count": 47,
   "metadata": {},
   "outputs": [],
   "source": [
    "xsec_g = exomol_cross_section_Gaussian(wn_grid, v, alpha, coef)\n",
    "xsec_l = exomol_cross_section_Lorentzian(wn_grid, v, gamma, coef)\n",
    "xsec_sv = exomol_cross_section_scipy_Voigt(wn_grid, v, alpha, gamma, coef)\n",
    "xsec_swv = exomol_cross_section_scipy_wofz_Voigt(wn_grid, v, alpha, gamma, coef)\n",
    "xsec_wv = exomol_cross_section_width_Voigt(wn_grid, v, alpha, gamma, coef)\n",
    "xsec_pv = exomol_cross_section_pseudo_Voigt(wn_grid, v, alpha, gamma, coef)        \n",
    "xsec_pfv = exomol_cross_section_pseudo_FWHM_Voigt(wn_grid, v, alpha, gamma, coef)"
   ]
  },
  {
   "cell_type": "code",
   "execution_count": 48,
   "metadata": {},
   "outputs": [
    {
     "name": "stdout",
     "output_type": "stream",
     "text": [
      "Air broading is           : 0.7\n",
      "Self broading is          : 0.3\n",
      "Temperature selected      : 500    K\n",
      "Pressure selected         : 1.0    bar\n",
      "Cutoff is                 : 25.0   cm-1\n",
      "Threshold is              : 1e-30  cm-1/(molecule cm-2)\n",
      "Wavenumber range selected : 0.0 cm-1 - 5000.0 cm-1\n"
     ]
    },
    {
     "data": {
      "image/png": "[encoded data removed]",
      "text/plain": [
       "<Figure size 640x480 with 1 Axes>"
      ]
     },
     "metadata": {},
     "output_type": "display_data"
    },
    {
     "name": "stdout",
     "output_type": "stream",
     "text": [
      "Cross sections plot saved.\n",
      "Cross sections file saved.\n",
      "Air broading is           : 0.7\n",
      "Self broading is          : 0.3\n",
      "Temperature selected      : 500    K\n",
      "Pressure selected         : 1.0    bar\n",
      "Cutoff is                 : 25.0   cm-1\n",
      "Threshold is              : 1e-30  cm-1/(molecule cm-2)\n",
      "Wavenumber range selected : 0.0 cm-1 - 5000.0 cm-1\n"
     ]
    },
    {
     "data": {
      "image/png": "[encoded data removed]",
      "text/plain": [
       "<Figure size 640x480 with 1 Axes>"
      ]
     },
     "metadata": {},
     "output_type": "display_data"
    },
    {
     "name": "stdout",
     "output_type": "stream",
     "text": [
      "Cross sections plot saved.\n",
      "Cross sections file saved.\n",
      "Air broading is           : 0.7\n",
      "Self broading is          : 0.3\n",
      "Temperature selected      : 500    K\n",
      "Pressure selected         : 1.0    bar\n",
      "Cutoff is                 : 25.0   cm-1\n",
      "Threshold is              : 1e-30  cm-1/(molecule cm-2)\n",
      "Wavenumber range selected : 0.0 cm-1 - 5000.0 cm-1\n"
     ]
    },
    {
     "data": {
      "image/png": "[encoded data removed]",
      "text/plain": [
       "<Figure size 640x480 with 1 Axes>"
      ]
     },
     "metadata": {},
     "output_type": "display_data"
    },
    {
     "name": "stdout",
     "output_type": "stream",
     "text": [
      "Cross sections plot saved.\n",
      "Cross sections file saved.\n",
      "Air broading is           : 0.7\n",
      "Self broading is          : 0.3\n",
      "Temperature selected      : 500    K\n",
      "Pressure selected         : 1.0    bar\n",
      "Cutoff is                 : 25.0   cm-1\n",
      "Threshold is              : 1e-30  cm-1/(molecule cm-2)\n",
      "Wavenumber range selected : 0.0 cm-1 - 5000.0 cm-1\n"
     ]
    },
    {
     "data": {
      "image/png": "[encoded data removed]",
      "text/plain": [
       "<Figure size 640x480 with 1 Axes>"
      ]
     },
     "metadata": {},
     "output_type": "display_data"
    },
    {
     "name": "stdout",
     "output_type": "stream",
     "text": [
      "Cross sections plot saved.\n",
      "Cross sections file saved.\n",
      "Air broading is           : 0.7\n",
      "Self broading is          : 0.3\n",
      "Temperature selected      : 500    K\n",
      "Pressure selected         : 1.0    bar\n",
      "Cutoff is                 : 25.0   cm-1\n",
      "Threshold is              : 1e-30  cm-1/(molecule cm-2)\n",
      "Wavenumber range selected : 0.0 cm-1 - 5000.0 cm-1\n"
     ]
    },
    {
     "data": {
      "image/png": "[encoded data removed]",
      "text/plain": [
       "<Figure size 640x480 with 1 Axes>"
      ]
     },
     "metadata": {},
     "output_type": "display_data"
    },
    {
     "name": "stdout",
     "output_type": "stream",
     "text": [
      "Cross sections plot saved.\n",
      "Cross sections file saved.\n",
      "Air broading is           : 0.7\n",
      "Self broading is          : 0.3\n",
      "Temperature selected      : 500    K\n",
      "Pressure selected         : 1.0    bar\n",
      "Cutoff is                 : 25.0   cm-1\n",
      "Threshold is              : 1e-30  cm-1/(molecule cm-2)\n",
      "Wavenumber range selected : 0.0 cm-1 - 5000.0 cm-1\n"
     ]
    },
    {
     "data": {
      "image/png": "[encoded data removed]",
      "text/plain": [
       "<Figure size 640x480 with 1 Axes>"
      ]
     },
     "metadata": {},
     "output_type": "display_data"
    },
    {
     "name": "stdout",
     "output_type": "stream",
     "text": [
      "Cross sections plot saved.\n",
      "Cross sections file saved.\n",
      "Air broading is           : 0.7\n",
      "Self broading is          : 0.3\n",
      "Temperature selected      : 500    K\n",
      "Pressure selected         : 1.0    bar\n",
      "Cutoff is                 : 25.0   cm-1\n",
      "Threshold is              : 1e-30  cm-1/(molecule cm-2)\n",
      "Wavenumber range selected : 0.0 cm-1 - 5000.0 cm-1\n"
     ]
    },
    {
     "data": {
      "image/png": "[encoded data removed]",
      "text/plain": [
       "<Figure size 640x480 with 1 Axes>"
      ]
     },
     "metadata": {},
     "output_type": "display_data"
    },
    {
     "name": "stdout",
     "output_type": "stream",
     "text": [
      "Cross sections plot saved.\n",
      "Cross sections file saved.\n"
     ]
    }
   ],
   "source": [
    "plot_xsec(wn_grid, xsec_g, database, 'Gaussian')\n",
    "plot_xsec(wn_grid, xsec_l, database, 'Lorentzian')\n",
    "plot_xsec(wn_grid, xsec_sv, database, 'SciPyVoigt')\n",
    "plot_xsec(wn_grid, xsec_swv, database, 'SciPyWofzVoigt')\n",
    "plot_xsec(wn_grid, xsec_wv, database, 'WidthVoigt')\n",
    "plot_xsec(wn_grid, xsec_pv, database, 'PseudoVoigt')\n",
    "plot_xsec(wn_grid, xsec_pfv, database, 'PseudoFWHMVoigt')"
   ]
  },
  {
   "cell_type": "code",
   "execution_count": 49,
   "metadata": {},
   "outputs": [
    {
     "data": {
      "image/png": "[encoded data removed]",
      "text/plain": [
       "<Figure size 640x480 with 1 Axes>"
      ]
     },
     "metadata": {},
     "output_type": "display_data"
    },
    {
     "name": "stdout",
     "output_type": "stream",
     "text": [
      "Cross sections plot saved.\n"
     ]
    }
   ],
   "source": [
    "wn = wn_grid\n",
    "fig, ax = plt.subplots()\n",
    "ax.plot(wn, xsec_g, label='Gaussian profile')\n",
    "ax.plot(wn, xsec_l, label='Lorentzian profile')\n",
    "ax.plot(wn, xsec_sv, label='SciPy Voigt profile')\n",
    "ax.plot(wn, xsec_swv, label='SciPy Wofz Voigt profile')\n",
    "ax.plot(wn, xsec_wv, label='Width Voigt profile')\n",
    "ax.plot(wn, xsec_pv, label='Pseudo Voigt profile')\n",
    "ax.plot(wn, xsec_pfv, label='Pseudo FWHM Voigt profile')\n",
    "ax.set_xlabel('Wavenumber, cm$^{-1}$')\n",
    "ax.set_ylabel('Cross-section, cm$^{2}$/molecule')\n",
    "ax.set_title(abs_emi+' Cross-Section ExoMol at T = '+str(T)+' K') \n",
    "ax.legend() \n",
    "plots_foldername = saveplots+molecule+'/'\n",
    "if os.path.exists(plots_foldername):\n",
    "    pass\n",
    "else:\n",
    "    os.makedirs(plots_foldername, exist_ok=True)    \n",
    "plt.savefig(plots_foldername+molecule+'__T'+str(T)+'__'+str(min_wn)+'-'+str(max_wn)+'cm-1__'\n",
    "            +database+'__'+abs_emi+'.png', dpi=500)\n",
    "plt.show()\n",
    "print('Cross sections plot saved.')\n"
   ]
  },
  {
   "cell_type": "markdown",
   "metadata": {},
   "source": [
    "## Plot At Different T With The Same Line Profile"
   ]
  },
  {
   "cell_type": "code",
   "execution_count": 50,
   "metadata": {},
   "outputs": [
    {
     "data": {
      "text/plain": [
       "<Figure size 6000x4000 with 0 Axes>"
      ]
     },
     "metadata": {},
     "output_type": "display_data"
    },
    {
     "data": {
      "image/png": "[encoded data removed]",
      "text/plain": [
       "<Figure size 640x480 with 1 Axes>"
      ]
     },
     "metadata": {},
     "output_type": "display_data"
    },
    {
     "name": "stdout",
     "output_type": "stream",
     "text": [
      "Cross sections plot saved.\n"
     ]
    }
   ],
   "source": [
    "profile = 'SciPyVoigt'\n",
    "wn = wn_grid\n",
    "plt.figure(figsize=(12,8), dpi=500)\n",
    "fig, ax = plt.subplots()\n",
    "\n",
    "T = 800\n",
    "coef = cal_abscoefs(v, gp, A, Epp, Q, abundance)\n",
    "#coef = cal_emicoefs(v, gp, A, Ep, Q, abundance)\n",
    "alpha = Doppler_HWHM (v, mass, T)\n",
    "gamma = Lorentzian_HWHM (T, P, n_air, gamma_L)\n",
    "xsec_sv = exomol_cross_section_scipy_Voigt(wn_grid, v, alpha, gamma, coef)\n",
    "ax.plot(wn, xsec_sv, linewidth=1, label='T = 800 K')\n",
    "\n",
    "T = 600\n",
    "coef = cal_abscoefs(v, gp, A, Epp, Q, abundance)\n",
    "#coef = cal_emicoefs(v, gp, A, Ep, Q, abundance)\n",
    "alpha = Doppler_HWHM (v, mass, T)\n",
    "gamma = Lorentzian_HWHM (T, P, n_air, gamma_L)\n",
    "xsec_sv = exomol_cross_section_scipy_Voigt(wn_grid, v, alpha, gamma, coef)\n",
    "ax.plot(wn, xsec_sv, linewidth=1, label='T = 600 K')\n",
    "\n",
    "T = 400\n",
    "coef = cal_abscoefs(v, gp, A, Epp, Q, abundance)\n",
    "#coef = cal_emicoefs(v, gp, A, Ep, Q, abundance)\n",
    "alpha = Doppler_HWHM (v, mass, T)\n",
    "gamma = Lorentzian_HWHM (T, P, n_air, gamma_L)\n",
    "xsec_sv = exomol_cross_section_scipy_Voigt(wn_grid, v, alpha, gamma, coef)\n",
    "ax.plot(wn, xsec_sv, linewidth=1, label='T = 400 K')\n",
    "\n",
    "T = 200\n",
    "coef = cal_abscoefs(v, gp, A, Epp, Q, abundance)\n",
    "#coef = cal_emicoefs(v, gp, A, Ep, Q, abundance)\n",
    "alpha = Doppler_HWHM (v, mass, T)\n",
    "gamma = Lorentzian_HWHM (T, P, n_air, gamma_L)\n",
    "xsec_sv = exomol_cross_section_scipy_Voigt(wn_grid, v, alpha, gamma, coef)\n",
    "ax.plot(wn, xsec_sv, linewidth=1, label='T = 200 K')\n",
    "\n",
    "T = 100\n",
    "coef = cal_abscoefs(v, gp, A, Epp, Q, abundance)\n",
    "#coef = cal_emicoefs(v, gp, A, Ep, Q, abundance)\n",
    "alpha = Doppler_HWHM (v, mass, T)\n",
    "gamma = Lorentzian_HWHM (T, P, n_air, gamma_L)\n",
    "xsec_sv = exomol_cross_section_scipy_Voigt(wn_grid, v, alpha, gamma, coef)\n",
    "ax.plot(wn, xsec_sv, linewidth=1, label='T = 100 K')\n",
    "\n",
    "T = 50\n",
    "coef = cal_abscoefs(v, gp, A, Epp, Q, abundance)\n",
    "#coef = cal_emicoefs(v, gp, A, Ep, Q, abundance)\n",
    "alpha = Doppler_HWHM (v, mass, T)\n",
    "gamma = Lorentzian_HWHM (T, P, n_air, gamma_L)\n",
    "xsec_sv = exomol_cross_section_scipy_Voigt(wn_grid, v, alpha, gamma, coef)\n",
    "ax.plot(wn, xsec_sv, linewidth=1, label='T =   50 K')\n",
    "\n",
    "ax.set_xlabel('Wavenumber, cm$^{-1}$')\n",
    "ax.set_ylabel('Cross-section, cm$^{2}$/molecule')\n",
    "ax.set_title(database + ' Database ' + molecule + ' ' + abs_emi +' Cross-Section With ' + profile)  \n",
    "ax.legend() \n",
    "plots_foldername = saveplots+molecule+'/'\n",
    "if os.path.exists(plots_foldername):\n",
    "    pass\n",
    "else:\n",
    "    os.makedirs(plots_foldername, exist_ok=True)    \n",
    "plt.savefig(plots_foldername+molecule+'__'+str(min_wn)+'-'+str(max_wn)+'cm-1__'\n",
    "            +database+'__'+abs_emi+'__'+profile+'.png', dpi=500)\n",
    "plt.show()\n",
    "print('Cross sections plot saved.')\n"
   ]
  },
  {
   "cell_type": "code",
   "execution_count": null,
   "metadata": {},
   "outputs": [],
   "source": []
  }
 ],
 "metadata": {
  "kernelspec": {
   "display_name": "Python 3.9.13 ('exomol')",
   "language": "python",
   "name": "python3"
  },
  "language_info": {
   "codemirror_mode": {
    "name": "ipython",
    "version": 3
   },
   "file_extension": ".py",
   "mimetype": "text/x-python",
   "name": "python",
   "nbconvert_exporter": "python",
   "pygments_lexer": "ipython3",
   "version": "3.9.13"
  },
  "vscode": {
   "interpreter": {
    "hash": "722cf535e3d158a42a418157a233af576121476252bfbc7c5af47c8831a1fc54"
   }
  }
 },
 "nbformat": 4,
 "nbformat_minor": 4
}
