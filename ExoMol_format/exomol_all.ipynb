{
 "cells": [
  {
   "cell_type": "code",
   "execution_count": 1,
   "metadata": {},
   "outputs": [],
   "source": [
    "import os\n",
    "import requests\n",
    "import pandas as pd\n",
    "import urllib.request\n",
    "from tqdm import tqdm\n",
    "from io import StringIO\n",
    "from bs4 import BeautifulSoup"
   ]
  },
  {
   "cell_type": "code",
   "execution_count": 59,
   "metadata": {},
   "outputs": [],
   "source": [
    "master_foldername = '/home/jingxin/data/master/'\n",
    "exomol_all_path = master_foldername + 'exomol__20200720.all'"
   ]
  },
  {
   "cell_type": "code",
   "execution_count": 76,
   "metadata": {},
   "outputs": [],
   "source": [
    "def get_new_def():\n",
    "    list_files = []\n",
    "\n",
    "    urlpage_mol = 'https://www.exomol.com/data/molecules/'\n",
    "    r_mol = requests.get(urlpage_mol)\n",
    "    if r_mol.status_code==200:\n",
    "        page_mol = urllib.request.urlopen(urlpage_mol)\n",
    "    soup_mol = BeautifulSoup(page_mol, 'html.parser')\n",
    "    list_group_mol = soup_mol.find_all('div', attrs={'class': 'list-group'})\n",
    "    list_molecule = []\n",
    "    for i_mol in range(len(list(list_group_mol))):\n",
    "        n_mol = len(list(list(list_group_mol)[i_mol]))\n",
    "        list_group_item_mol = list(list(list_group_mol)[i_mol])[1:n_mol:2]\n",
    "        str_group_mol = str(list_group_item_mol).split('\"')\n",
    "        list_molecule += str_group_mol[3:len(str_group_mol):4]\n",
    "\n",
    "    for index_mol in tqdm(range(len(list_molecule))):    \n",
    "        urlpage_iso = urlpage_mol + list_molecule[index_mol]\n",
    "        print(list_molecule[index_mol])\n",
    "        r_iso = requests.get(urlpage_iso)\n",
    "        if r_iso.status_code==200:\n",
    "            page_iso = urllib.request.urlopen(urlpage_iso)\n",
    "        soup_iso = BeautifulSoup(page_iso, 'html.parser')\n",
    "        list_group_iso = soup_iso.find_all('div', attrs={'class': 'list-group'})\n",
    "        list_iso = []\n",
    "        for i_iso in range(len(list(list_group_iso))):\n",
    "            n_iso = len(list(list(list_group_iso)[i_iso]))\n",
    "            list_group_item_iso = list(list(list_group_iso)[i_iso])[1:n_iso:2]\n",
    "            str_group_iso = str(list_group_item_iso).split('\"')\n",
    "            list_iso += str_group_iso[3:len(str_group_iso):4]\n",
    "\n",
    "        if (len(list_iso) != 0):\n",
    "            for index_iso in range(len(list_iso)):\n",
    "                urlpage_dataset = urlpage_iso + '/' + list_iso[index_iso]\n",
    "                r_dataset = requests.get(urlpage_dataset)\n",
    "                if r_dataset.status_code==200:\n",
    "                    page_dataset = urllib.request.urlopen(urlpage_dataset)\n",
    "                soup_dataset = BeautifulSoup(page_dataset, 'html.parser')\n",
    "                list_group_dataset = soup_dataset.find_all('div', attrs={'class': 'list-group'})\n",
    "                list_datasets = []\n",
    "                for i_dataset in range(len(list(list_group_dataset))):\n",
    "                    n_dataset = len(list(list(list_group_dataset)[i_dataset]))\n",
    "                    list_group_item_dataset = list(list(list_group_dataset)[i_dataset])[1:n_dataset:2]\n",
    "                    str_group_dataset = str(list_group_item_dataset).split('\"')\n",
    "                    list_datasets += str_group_dataset[3:len(str_group_dataset):4]\n",
    "                list_dataset = list_datasets\n",
    "                a = 'list-group-item link-list-group-item recommended'\n",
    "                b = 'list-group-item link-list-group-item'\n",
    "                c = 'pull-right'\n",
    "                if a in list_dataset:\n",
    "                    list_dataset.remove('list-group-item link-list-group-item recommended')\n",
    "                if b in list_dataset:\n",
    "                    list_dataset.remove('list-group-item link-list-group-item')\n",
    "                if c in list_dataset:\n",
    "                    list_dataset.remove('pull-right')\n",
    "\n",
    "                if (len(list_dataset) != 0):\n",
    "                    for index_dataset in range(len(list_dataset)):\n",
    "                        urlpage_file = urlpage_dataset + '/' + list_dataset[index_dataset]\n",
    "                        r_file = requests.get(urlpage_file)\n",
    "                        if r_file.status_code==200:\n",
    "                            page_file = urllib.request.urlopen(urlpage_file)\n",
    "                        soup_file = BeautifulSoup(page_file, 'html.parser')\n",
    "                        list_group_file = soup_file.find_all('div', attrs={'class': 'list-group'})\n",
    "\n",
    "                        if (len(list_group_file) != 0):\n",
    "                            for i_file in range(len(list(list_group_file))):\n",
    "                                n_file = len(list(list(list_group_file)[i_file]))\n",
    "                                list_group_item_file = list(list(list_group_file)[i_file])[1:n_file:2]\n",
    "                                str_group_file = str(list_group_item_file).replace('/models','https://www.exomol.com/db').split('\"')\n",
    "                                list_files += str_group_file[3:len(str_group_file):4]\n",
    "\n",
    "    file_list = [start_link+start_link.split('/')[5]+'__'+start_link.split('/')[6]+'.def' for start_link in list_files]\n",
    "    new_def_url = pd.DataFrame()\n",
    "    new_def_url['new'] = file_list\n",
    "    return new_def_url"
   ]
  },
  {
   "cell_type": "code",
   "execution_count": 36,
   "metadata": {},
   "outputs": [],
   "source": [
    "def get_old_def():\n",
    "    exomol_col_name = ['c0', 'c1', 'c2', 'c3', 'c4', 'c5', 'c6']\n",
    "    \n",
    "    #################################################\n",
    "    # Use online master file (last or new version). #\n",
    "    # exomol_all_url = 'http://www.exomol.com/db/exomol.all'\n",
    "    # content = requests.get(exomol_all_url).text.replace('#','')\n",
    "    # exomol_all = pd.read_csv(StringIO(content), sep='\\\\s+', names=exomol_col_name, header=None)\n",
    "    # Col1 = exomol_all['c1']\n",
    "    # Col2 = exomol_all['c3']\n",
    "    \n",
    "    ##################################################\n",
    "    # Use local master file (version when you save). #\n",
    "    exomol_all = pd.read_csv(exomol_all_path, sep='\\\\s+', names=exomol_col_name, \n",
    "                             usecols=[0, 1, 2, 3, 4, 5, 6], header=None)\n",
    "    Col1 = exomol_all['c2']\n",
    "    Col2 = exomol_all['c4']\n",
    "    \n",
    "    ##################################################\n",
    "    row = len(Col1)\n",
    "    iso_slug = pd.DataFrame()\n",
    "    iso_formula = pd.DataFrame()\n",
    "    isotopologue = pd.DataFrame()\n",
    "    molecule_single = pd.DataFrame()\n",
    "    num_isotopologues = pd.DataFrame()\n",
    "\n",
    "    for i in range(row):\n",
    "\n",
    "        _iso_slug = exomol_all[Col1.isin(['Iso-slug'])]['c0'].values\n",
    "        _iso_formula = exomol_all[Col1.isin(['IsoFormula'])]['c0'].values\n",
    "        _isotopologue = exomol_all[Col1.isin(['Isotopologue'])]['c0'].values\n",
    "        _molecule_single = exomol_all[Col1.isin(['Molecule'])]['c0'].values\n",
    "        _num_isotopologues = exomol_all[Col2.isin(['isotopologues'])]['c0'].values\n",
    "\n",
    "    iso_slug = pd.concat([iso_slug, pd.DataFrame(_iso_slug)])\n",
    "    iso_formula = pd.concat([iso_formula, pd.DataFrame(_iso_formula)])\n",
    "    isotopologue = pd.concat([isotopologue, pd.DataFrame(_isotopologue)])\n",
    "    molecule_single = pd.concat([molecule_single, pd.DataFrame(_molecule_single)])\n",
    "    num_isotopologues = pd.concat([num_isotopologues, pd.DataFrame(_num_isotopologues)])\n",
    "    \n",
    "    molecule_repeated = pd.DataFrame()\n",
    "    molecule_num = len(molecule_single)\n",
    "\n",
    "    for j in range(molecule_num):    \n",
    "        molecule_repeated = pd.concat([molecule_repeated, pd.DataFrame((molecule_single.values[j] + ' ')\n",
    "                                                                       *int(num_isotopologues.values[j]))])\n",
    "\n",
    "    molecule_str = (str(molecule_repeated.values).replace(\"[['\",\" \")\n",
    "                    .replace(\"']\\n ['\",\" \").replace(\"']]\",\" \").replace(\"+\",\"_p\"))\n",
    "    molecule = pd.read_csv(StringIO(molecule_str), sep='\\s+', header=None)\n",
    "    \n",
    "\n",
    "    old_def_url_list = []\n",
    "    old_def_num = len(iso_slug)\n",
    "    for i in range(old_def_num):\n",
    "        old_def_url_list.append('https://www.exomol.com/db/' + molecule[i] + '/'\n",
    "                                + iso_slug.values[i] + '/'+ isotopologue.values[i] + '/'\n",
    "                                + iso_slug.values[i] + '__' + isotopologue.values[i] + '.def')\n",
    "    old_def_url = pd.DataFrame()\n",
    "    old_def_url['old'] = pd.DataFrame(old_def_url_list)\n",
    "    return old_def_url"
   ]
  },
  {
   "cell_type": "code",
   "execution_count": 37,
   "metadata": {},
   "outputs": [],
   "source": [
    "def get_add_def(new_def_url, old_def_url):\n",
    "    add_def_url = new_def_url[~(new_def_url['new'].isin(old_def_url['old']))].reset_index(drop=True)\n",
    "    add_def_url.columns = ['add']\n",
    "    pd.set_option('display.width', 1000)\n",
    "    pd.set_option('display.max_columns', 1000)\n",
    "    pd.set_option('display.max_colwidth', 1000)\n",
    "    return add_def_url"
   ]
  },
  {
   "cell_type": "code",
   "execution_count": 60,
   "metadata": {},
   "outputs": [],
   "source": [
    "def download_master_file():\n",
    "    master_filename = 'exomol.all'\n",
    "    if os.path.exists(master_foldername):\n",
    "        pass\n",
    "    else:\n",
    "        os.makedirs(master_foldername, exist_ok=True)\n",
    "    filename = os.path.join(master_foldername, master_filename)\n",
    "\n",
    "    exomol_all_url = 'http://www.exomol.com/db/exomol.all'\n",
    "    r = requests.get(exomol_all_url) \n",
    "    with open(filename, 'wb') as code:\n",
    "        code.write(r.content)    \n"
   ]
  },
  {
   "cell_type": "code",
   "execution_count": 39,
   "metadata": {},
   "outputs": [],
   "source": [
    "def get_invalid_urlpage(add_def_url):\n",
    "    # Invalid URL page\n",
    "    urlpages_list = []\n",
    "    for i in tqdm(range(len(list(add_def_url['add'])))):\n",
    "        urlpage = add_def_url['add'][i]\n",
    "        r_add = requests.get(urlpage)\n",
    "        if r_add.status_code!=200:\n",
    "            urlpages_list.append(urlpage)\n",
    "    urlpage = pd.DataFrame(urlpages_list)\n",
    "    print('There are ', len(urlpage),' invalid url pages of def files.')\n",
    "    return urlpage"
   ]
  },
  {
   "cell_type": "code",
   "execution_count": 77,
   "metadata": {},
   "outputs": [
    {
     "name": "stderr",
     "output_type": "stream",
     "text": [
      "  0%|          | 0/92 [00:00<?, ?it/s]"
     ]
    },
    {
     "name": "stdout",
     "output_type": "stream",
     "text": [
      "MgH\n"
     ]
    },
    {
     "name": "stderr",
     "output_type": "stream",
     "text": [
      "  1%|          | 1/92 [00:06<10:29,  6.91s/it]"
     ]
    },
    {
     "name": "stdout",
     "output_type": "stream",
     "text": [
      "NaH\n"
     ]
    },
    {
     "name": "stderr",
     "output_type": "stream",
     "text": [
      "  2%|▏         | 2/92 [00:07<04:52,  3.25s/it]"
     ]
    },
    {
     "name": "stdout",
     "output_type": "stream",
     "text": [
      "NiH\n"
     ]
    },
    {
     "name": "stderr",
     "output_type": "stream",
     "text": [
      "  3%|▎         | 3/92 [00:08<03:10,  2.14s/it]"
     ]
    },
    {
     "name": "stdout",
     "output_type": "stream",
     "text": [
      "AlH\n"
     ]
    },
    {
     "name": "stderr",
     "output_type": "stream",
     "text": [
      "  4%|▍         | 4/92 [00:14<05:28,  3.74s/it]"
     ]
    },
    {
     "name": "stdout",
     "output_type": "stream",
     "text": [
      "CrH\n"
     ]
    },
    {
     "name": "stderr",
     "output_type": "stream",
     "text": [
      "  5%|▌         | 5/92 [00:15<03:44,  2.58s/it]"
     ]
    },
    {
     "name": "stdout",
     "output_type": "stream",
     "text": [
      "CaH\n"
     ]
    },
    {
     "name": "stderr",
     "output_type": "stream",
     "text": [
      "  7%|▋         | 6/92 [00:16<02:56,  2.05s/it]"
     ]
    },
    {
     "name": "stdout",
     "output_type": "stream",
     "text": [
      "BeH\n"
     ]
    },
    {
     "name": "stderr",
     "output_type": "stream",
     "text": [
      "  8%|▊         | 7/92 [00:17<02:29,  1.76s/it]"
     ]
    },
    {
     "name": "stdout",
     "output_type": "stream",
     "text": [
      "TiH\n"
     ]
    },
    {
     "name": "stderr",
     "output_type": "stream",
     "text": [
      "  9%|▊         | 8/92 [00:17<01:55,  1.37s/it]"
     ]
    },
    {
     "name": "stdout",
     "output_type": "stream",
     "text": [
      "FeH\n"
     ]
    },
    {
     "name": "stderr",
     "output_type": "stream",
     "text": [
      " 10%|▉         | 9/92 [00:18<01:39,  1.20s/it]"
     ]
    },
    {
     "name": "stdout",
     "output_type": "stream",
     "text": [
      "LiH\n"
     ]
    },
    {
     "name": "stderr",
     "output_type": "stream",
     "text": [
      " 11%|█         | 10/92 [00:19<01:21,  1.00it/s]"
     ]
    },
    {
     "name": "stdout",
     "output_type": "stream",
     "text": [
      "ScH\n"
     ]
    },
    {
     "name": "stderr",
     "output_type": "stream",
     "text": [
      " 12%|█▏        | 11/92 [00:19<01:08,  1.18it/s]"
     ]
    },
    {
     "name": "stdout",
     "output_type": "stream",
     "text": [
      "NH\n"
     ]
    },
    {
     "name": "stderr",
     "output_type": "stream",
     "text": [
      " 13%|█▎        | 12/92 [00:20<00:57,  1.40it/s]"
     ]
    },
    {
     "name": "stdout",
     "output_type": "stream",
     "text": [
      "CH\n"
     ]
    },
    {
     "name": "stderr",
     "output_type": "stream",
     "text": [
      " 14%|█▍        | 13/92 [00:20<00:57,  1.38it/s]"
     ]
    },
    {
     "name": "stdout",
     "output_type": "stream",
     "text": [
      "OH\n"
     ]
    },
    {
     "name": "stderr",
     "output_type": "stream",
     "text": [
      " 15%|█▌        | 14/92 [00:21<00:55,  1.41it/s]"
     ]
    },
    {
     "name": "stdout",
     "output_type": "stream",
     "text": [
      "HCl\n"
     ]
    },
    {
     "name": "stderr",
     "output_type": "stream",
     "text": [
      " 16%|█▋        | 15/92 [00:22<01:10,  1.09it/s]"
     ]
    },
    {
     "name": "stdout",
     "output_type": "stream",
     "text": [
      "SiH\n"
     ]
    },
    {
     "name": "stderr",
     "output_type": "stream",
     "text": [
      " 17%|█▋        | 16/92 [00:24<01:21,  1.07s/it]"
     ]
    },
    {
     "name": "stdout",
     "output_type": "stream",
     "text": [
      "SH\n"
     ]
    },
    {
     "name": "stderr",
     "output_type": "stream",
     "text": [
      " 18%|█▊        | 17/92 [00:26<01:47,  1.44s/it]"
     ]
    },
    {
     "name": "stdout",
     "output_type": "stream",
     "text": [
      "HF\n"
     ]
    },
    {
     "name": "stderr",
     "output_type": "stream",
     "text": [
      " 20%|█▉        | 18/92 [00:27<01:32,  1.25s/it]"
     ]
    },
    {
     "name": "stdout",
     "output_type": "stream",
     "text": [
      "PH\n"
     ]
    },
    {
     "name": "stderr",
     "output_type": "stream",
     "text": [
      " 21%|██        | 19/92 [00:27<01:11,  1.02it/s]"
     ]
    },
    {
     "name": "stdout",
     "output_type": "stream",
     "text": [
      "VO\n"
     ]
    },
    {
     "name": "stderr",
     "output_type": "stream",
     "text": [
      " 22%|██▏       | 20/92 [00:28<01:00,  1.19it/s]"
     ]
    },
    {
     "name": "stdout",
     "output_type": "stream",
     "text": [
      "AlO\n"
     ]
    },
    {
     "name": "stderr",
     "output_type": "stream",
     "text": [
      " 23%|██▎       | 21/92 [00:29<01:10,  1.00it/s]"
     ]
    },
    {
     "name": "stdout",
     "output_type": "stream",
     "text": [
      "YO\n"
     ]
    },
    {
     "name": "stderr",
     "output_type": "stream",
     "text": [
      " 24%|██▍       | 22/92 [00:30<00:57,  1.23it/s]"
     ]
    },
    {
     "name": "stdout",
     "output_type": "stream",
     "text": [
      "MgO\n"
     ]
    },
    {
     "name": "stderr",
     "output_type": "stream",
     "text": [
      " 25%|██▌       | 23/92 [00:36<02:54,  2.53s/it]"
     ]
    },
    {
     "name": "stdout",
     "output_type": "stream",
     "text": [
      "TiO\n"
     ]
    },
    {
     "name": "stderr",
     "output_type": "stream",
     "text": [
      " 26%|██▌       | 24/92 [00:39<02:50,  2.50s/it]"
     ]
    },
    {
     "name": "stdout",
     "output_type": "stream",
     "text": [
      "SiO\n"
     ]
    },
    {
     "name": "stderr",
     "output_type": "stream",
     "text": [
      " 27%|██▋       | 25/92 [00:40<02:34,  2.30s/it]"
     ]
    },
    {
     "name": "stdout",
     "output_type": "stream",
     "text": [
      "CaO\n"
     ]
    },
    {
     "name": "stderr",
     "output_type": "stream",
     "text": [
      " 28%|██▊       | 26/92 [00:41<01:56,  1.76s/it]"
     ]
    },
    {
     "name": "stdout",
     "output_type": "stream",
     "text": [
      "NaO\n"
     ]
    },
    {
     "name": "stderr",
     "output_type": "stream",
     "text": [
      " 29%|██▉       | 27/92 [00:41<01:30,  1.39s/it]"
     ]
    },
    {
     "name": "stdout",
     "output_type": "stream",
     "text": [
      "LaO\n"
     ]
    },
    {
     "name": "stderr",
     "output_type": "stream",
     "text": [
      " 30%|███       | 28/92 [00:42<01:08,  1.08s/it]"
     ]
    },
    {
     "name": "stdout",
     "output_type": "stream",
     "text": [
      "ZrO\n"
     ]
    },
    {
     "name": "stderr",
     "output_type": "stream",
     "text": [
      " 32%|███▏      | 29/92 [00:42<00:54,  1.16it/s]"
     ]
    },
    {
     "name": "stdout",
     "output_type": "stream",
     "text": [
      "CO\n"
     ]
    },
    {
     "name": "stderr",
     "output_type": "stream",
     "text": [
      " 33%|███▎      | 30/92 [00:46<01:57,  1.90s/it]"
     ]
    },
    {
     "name": "stdout",
     "output_type": "stream",
     "text": [
      "NO\n"
     ]
    },
    {
     "name": "stderr",
     "output_type": "stream",
     "text": [
      " 34%|███▎      | 31/92 [00:49<02:00,  1.97s/it]"
     ]
    },
    {
     "name": "stdout",
     "output_type": "stream",
     "text": [
      "PO\n"
     ]
    },
    {
     "name": "stderr",
     "output_type": "stream",
     "text": [
      " 35%|███▍      | 32/92 [00:49<01:32,  1.54s/it]"
     ]
    },
    {
     "name": "stdout",
     "output_type": "stream",
     "text": [
      "O2\n"
     ]
    },
    {
     "name": "stderr",
     "output_type": "stream",
     "text": [
      " 36%|███▌      | 33/92 [00:50<01:12,  1.23s/it]"
     ]
    },
    {
     "name": "stdout",
     "output_type": "stream",
     "text": [
      "H2O\n"
     ]
    },
    {
     "name": "stderr",
     "output_type": "stream",
     "text": [
      " 37%|███▋      | 34/92 [00:53<01:47,  1.85s/it]"
     ]
    },
    {
     "name": "stdout",
     "output_type": "stream",
     "text": [
      "CO2\n"
     ]
    },
    {
     "name": "stderr",
     "output_type": "stream",
     "text": [
      " 38%|███▊      | 35/92 [00:58<02:40,  2.81s/it]"
     ]
    },
    {
     "name": "stdout",
     "output_type": "stream",
     "text": [
      "SO2\n"
     ]
    },
    {
     "name": "stderr",
     "output_type": "stream",
     "text": [
      " 39%|███▉      | 36/92 [00:59<02:01,  2.17s/it]"
     ]
    },
    {
     "name": "stdout",
     "output_type": "stream",
     "text": [
      "HCN\n"
     ]
    },
    {
     "name": "stderr",
     "output_type": "stream",
     "text": [
      " 40%|████      | 37/92 [01:00<01:38,  1.80s/it]"
     ]
    },
    {
     "name": "stdout",
     "output_type": "stream",
     "text": [
      "N2O\n"
     ]
    },
    {
     "name": "stderr",
     "output_type": "stream",
     "text": [
      " 41%|████▏     | 38/92 [01:00<01:13,  1.36s/it]"
     ]
    },
    {
     "name": "stdout",
     "output_type": "stream",
     "text": [
      "H2S\n"
     ]
    },
    {
     "name": "stderr",
     "output_type": "stream",
     "text": [
      " 42%|████▏     | 39/92 [01:00<00:58,  1.11s/it]"
     ]
    },
    {
     "name": "stdout",
     "output_type": "stream",
     "text": [
      "OCS\n"
     ]
    },
    {
     "name": "stderr",
     "output_type": "stream",
     "text": [
      " 43%|████▎     | 40/92 [01:01<00:43,  1.18it/s]"
     ]
    },
    {
     "name": "stdout",
     "output_type": "stream",
     "text": [
      "CaOH\n"
     ]
    },
    {
     "name": "stderr",
     "output_type": "stream",
     "text": [
      " 45%|████▍     | 41/92 [01:01<00:38,  1.34it/s]"
     ]
    },
    {
     "name": "stdout",
     "output_type": "stream",
     "text": [
      "KOH\n"
     ]
    },
    {
     "name": "stderr",
     "output_type": "stream",
     "text": [
      " 46%|████▌     | 42/92 [01:02<00:33,  1.47it/s]"
     ]
    },
    {
     "name": "stdout",
     "output_type": "stream",
     "text": [
      "NaOH\n"
     ]
    },
    {
     "name": "stderr",
     "output_type": "stream",
     "text": [
      " 47%|████▋     | 43/92 [01:02<00:32,  1.51it/s]"
     ]
    },
    {
     "name": "stdout",
     "output_type": "stream",
     "text": [
      "SiH2\n"
     ]
    },
    {
     "name": "stderr",
     "output_type": "stream",
     "text": [
      " 48%|████▊     | 44/92 [01:03<00:29,  1.64it/s]"
     ]
    },
    {
     "name": "stdout",
     "output_type": "stream",
     "text": [
      "SiO2\n"
     ]
    },
    {
     "name": "stderr",
     "output_type": "stream",
     "text": [
      " 49%|████▉     | 45/92 [01:03<00:27,  1.69it/s]"
     ]
    },
    {
     "name": "stdout",
     "output_type": "stream",
     "text": [
      "CH4\n"
     ]
    },
    {
     "name": "stderr",
     "output_type": "stream",
     "text": [
      " 50%|█████     | 46/92 [01:04<00:29,  1.57it/s]"
     ]
    },
    {
     "name": "stdout",
     "output_type": "stream",
     "text": [
      "NH3\n"
     ]
    },
    {
     "name": "stderr",
     "output_type": "stream",
     "text": [
      " 51%|█████     | 47/92 [01:06<00:39,  1.15it/s]"
     ]
    },
    {
     "name": "stdout",
     "output_type": "stream",
     "text": [
      "HNO3\n"
     ]
    },
    {
     "name": "stderr",
     "output_type": "stream",
     "text": [
      " 52%|█████▏    | 48/92 [01:06<00:34,  1.29it/s]"
     ]
    },
    {
     "name": "stdout",
     "output_type": "stream",
     "text": [
      "H2O2\n"
     ]
    },
    {
     "name": "stderr",
     "output_type": "stream",
     "text": [
      " 53%|█████▎    | 49/92 [01:07<00:32,  1.34it/s]"
     ]
    },
    {
     "name": "stdout",
     "output_type": "stream",
     "text": [
      "H2CO\n"
     ]
    },
    {
     "name": "stderr",
     "output_type": "stream",
     "text": [
      " 54%|█████▍    | 50/92 [01:08<00:31,  1.32it/s]"
     ]
    },
    {
     "name": "stdout",
     "output_type": "stream",
     "text": [
      "SO3\n"
     ]
    },
    {
     "name": "stderr",
     "output_type": "stream",
     "text": [
      " 55%|█████▌    | 51/92 [01:08<00:31,  1.29it/s]"
     ]
    },
    {
     "name": "stdout",
     "output_type": "stream",
     "text": [
      "SiH4\n"
     ]
    },
    {
     "name": "stderr",
     "output_type": "stream",
     "text": [
      " 57%|█████▋    | 52/92 [01:09<00:27,  1.43it/s]"
     ]
    },
    {
     "name": "stdout",
     "output_type": "stream",
     "text": [
      "CH3F\n"
     ]
    },
    {
     "name": "stderr",
     "output_type": "stream",
     "text": [
      " 58%|█████▊    | 53/92 [01:09<00:23,  1.66it/s]"
     ]
    },
    {
     "name": "stdout",
     "output_type": "stream",
     "text": [
      "CH3Cl\n"
     ]
    },
    {
     "name": "stderr",
     "output_type": "stream",
     "text": [
      " 59%|█████▊    | 54/92 [01:10<00:26,  1.41it/s]"
     ]
    },
    {
     "name": "stdout",
     "output_type": "stream",
     "text": [
      "C2H4\n"
     ]
    },
    {
     "name": "stderr",
     "output_type": "stream",
     "text": [
      " 60%|█████▉    | 55/92 [01:11<00:26,  1.41it/s]"
     ]
    },
    {
     "name": "stdout",
     "output_type": "stream",
     "text": [
      "C2H2\n"
     ]
    },
    {
     "name": "stderr",
     "output_type": "stream",
     "text": [
      " 61%|██████    | 56/92 [01:11<00:23,  1.52it/s]"
     ]
    },
    {
     "name": "stdout",
     "output_type": "stream",
     "text": [
      "AsH3\n"
     ]
    },
    {
     "name": "stderr",
     "output_type": "stream",
     "text": [
      " 62%|██████▏   | 57/92 [01:12<00:20,  1.75it/s]"
     ]
    },
    {
     "name": "stdout",
     "output_type": "stream",
     "text": [
      "PF3\n"
     ]
    },
    {
     "name": "stderr",
     "output_type": "stream",
     "text": [
      " 63%|██████▎   | 58/92 [01:12<00:17,  1.91it/s]"
     ]
    },
    {
     "name": "stdout",
     "output_type": "stream",
     "text": [
      "PH3\n"
     ]
    },
    {
     "name": "stderr",
     "output_type": "stream",
     "text": [
      " 64%|██████▍   | 59/92 [01:13<00:19,  1.69it/s]"
     ]
    },
    {
     "name": "stdout",
     "output_type": "stream",
     "text": [
      "CH3\n"
     ]
    },
    {
     "name": "stderr",
     "output_type": "stream",
     "text": [
      " 65%|██████▌   | 60/92 [01:14<00:18,  1.74it/s]"
     ]
    },
    {
     "name": "stdout",
     "output_type": "stream",
     "text": [
      "cis-P2H2\n"
     ]
    },
    {
     "name": "stderr",
     "output_type": "stream",
     "text": [
      " 66%|██████▋   | 61/92 [01:14<00:17,  1.81it/s]"
     ]
    },
    {
     "name": "stdout",
     "output_type": "stream",
     "text": [
      "trans-P2H2\n"
     ]
    },
    {
     "name": "stderr",
     "output_type": "stream",
     "text": [
      " 67%|██████▋   | 62/92 [01:20<01:03,  2.12s/it]"
     ]
    },
    {
     "name": "stdout",
     "output_type": "stream",
     "text": [
      "H2CS\n"
     ]
    },
    {
     "name": "stderr",
     "output_type": "stream",
     "text": [
      " 68%|██████▊   | 63/92 [01:20<00:47,  1.63s/it]"
     ]
    },
    {
     "name": "stdout",
     "output_type": "stream",
     "text": [
      "LiH_p\n"
     ]
    },
    {
     "name": "stderr",
     "output_type": "stream",
     "text": [
      " 70%|██████▉   | 64/92 [01:21<00:35,  1.25s/it]"
     ]
    },
    {
     "name": "stdout",
     "output_type": "stream",
     "text": [
      "H2_p\n"
     ]
    },
    {
     "name": "stderr",
     "output_type": "stream",
     "text": [
      " 71%|███████   | 65/92 [01:21<00:30,  1.11s/it]"
     ]
    },
    {
     "name": "stdout",
     "output_type": "stream",
     "text": [
      "HeH_p\n"
     ]
    },
    {
     "name": "stderr",
     "output_type": "stream",
     "text": [
      " 72%|███████▏  | 66/92 [01:23<00:33,  1.29s/it]"
     ]
    },
    {
     "name": "stdout",
     "output_type": "stream",
     "text": [
      "H3_p\n"
     ]
    },
    {
     "name": "stderr",
     "output_type": "stream",
     "text": [
      " 73%|███████▎  | 67/92 [01:25<00:35,  1.41s/it]"
     ]
    },
    {
     "name": "stdout",
     "output_type": "stream",
     "text": [
      "OH_p\n"
     ]
    },
    {
     "name": "stderr",
     "output_type": "stream",
     "text": [
      " 74%|███████▍  | 68/92 [01:25<00:26,  1.10s/it]"
     ]
    },
    {
     "name": "stdout",
     "output_type": "stream",
     "text": [
      "H3O_p\n"
     ]
    },
    {
     "name": "stderr",
     "output_type": "stream",
     "text": [
      " 75%|███████▌  | 69/92 [01:26<00:21,  1.08it/s]"
     ]
    },
    {
     "name": "stdout",
     "output_type": "stream",
     "text": [
      "PN\n"
     ]
    },
    {
     "name": "stderr",
     "output_type": "stream",
     "text": [
      " 76%|███████▌  | 70/92 [01:27<00:19,  1.13it/s]"
     ]
    },
    {
     "name": "stdout",
     "output_type": "stream",
     "text": [
      "KCl\n"
     ]
    },
    {
     "name": "stderr",
     "output_type": "stream",
     "text": [
      " 77%|███████▋  | 71/92 [01:28<00:20,  1.01it/s]"
     ]
    },
    {
     "name": "stdout",
     "output_type": "stream",
     "text": [
      "NaCl\n"
     ]
    },
    {
     "name": "stderr",
     "output_type": "stream",
     "text": [
      " 78%|███████▊  | 72/92 [01:29<00:18,  1.08it/s]"
     ]
    },
    {
     "name": "stdout",
     "output_type": "stream",
     "text": [
      "LiCl\n"
     ]
    },
    {
     "name": "stderr",
     "output_type": "stream",
     "text": [
      " 79%|███████▉  | 73/92 [01:30<00:20,  1.06s/it]"
     ]
    },
    {
     "name": "stdout",
     "output_type": "stream",
     "text": [
      "CN\n"
     ]
    },
    {
     "name": "stderr",
     "output_type": "stream",
     "text": [
      " 80%|████████  | 74/92 [01:31<00:20,  1.16s/it]"
     ]
    },
    {
     "name": "stdout",
     "output_type": "stream",
     "text": [
      "C2\n"
     ]
    },
    {
     "name": "stderr",
     "output_type": "stream",
     "text": [
      " 82%|████████▏ | 75/92 [01:33<00:22,  1.30s/it]"
     ]
    },
    {
     "name": "stdout",
     "output_type": "stream",
     "text": [
      "H2\n"
     ]
    },
    {
     "name": "stderr",
     "output_type": "stream",
     "text": [
      " 83%|████████▎ | 76/92 [01:34<00:18,  1.18s/it]"
     ]
    },
    {
     "name": "stdout",
     "output_type": "stream",
     "text": [
      "CS\n"
     ]
    },
    {
     "name": "stderr",
     "output_type": "stream",
     "text": [
      " 84%|████████▎ | 77/92 [01:36<00:22,  1.51s/it]"
     ]
    },
    {
     "name": "stdout",
     "output_type": "stream",
     "text": [
      "CP\n"
     ]
    },
    {
     "name": "stderr",
     "output_type": "stream",
     "text": [
      " 85%|████████▍ | 78/92 [01:37<00:17,  1.22s/it]"
     ]
    },
    {
     "name": "stdout",
     "output_type": "stream",
     "text": [
      "PS\n"
     ]
    },
    {
     "name": "stderr",
     "output_type": "stream",
     "text": [
      " 86%|████████▌ | 79/92 [01:37<00:13,  1.00s/it]"
     ]
    },
    {
     "name": "stdout",
     "output_type": "stream",
     "text": [
      "NS\n"
     ]
    },
    {
     "name": "stderr",
     "output_type": "stream",
     "text": [
      " 87%|████████▋ | 80/92 [01:39<00:13,  1.15s/it]"
     ]
    },
    {
     "name": "stdout",
     "output_type": "stream",
     "text": [
      "SiS\n"
     ]
    },
    {
     "name": "stderr",
     "output_type": "stream",
     "text": [
      " 88%|████████▊ | 81/92 [01:47<00:36,  3.31s/it]"
     ]
    },
    {
     "name": "stdout",
     "output_type": "stream",
     "text": [
      "NaF\n"
     ]
    },
    {
     "name": "stderr",
     "output_type": "stream",
     "text": [
      " 89%|████████▉ | 82/92 [01:47<00:24,  2.43s/it]"
     ]
    },
    {
     "name": "stdout",
     "output_type": "stream",
     "text": [
      "AlCl\n"
     ]
    },
    {
     "name": "stderr",
     "output_type": "stream",
     "text": [
      " 90%|█████████ | 83/92 [01:49<00:18,  2.09s/it]"
     ]
    },
    {
     "name": "stdout",
     "output_type": "stream",
     "text": [
      "AlF\n"
     ]
    },
    {
     "name": "stderr",
     "output_type": "stream",
     "text": [
      " 91%|█████████▏| 84/92 [01:49<00:12,  1.58s/it]"
     ]
    },
    {
     "name": "stdout",
     "output_type": "stream",
     "text": [
      "KF\n"
     ]
    },
    {
     "name": "stderr",
     "output_type": "stream",
     "text": [
      " 92%|█████████▏| 85/92 [01:50<00:09,  1.29s/it]"
     ]
    },
    {
     "name": "stdout",
     "output_type": "stream",
     "text": [
      "LiF\n"
     ]
    },
    {
     "name": "stderr",
     "output_type": "stream",
     "text": [
      " 93%|█████████▎| 86/92 [01:50<00:06,  1.09s/it]"
     ]
    },
    {
     "name": "stdout",
     "output_type": "stream",
     "text": [
      "CaF\n"
     ]
    },
    {
     "name": "stderr",
     "output_type": "stream",
     "text": [
      " 95%|█████████▍| 87/92 [01:52<00:06,  1.25s/it]"
     ]
    },
    {
     "name": "stdout",
     "output_type": "stream",
     "text": [
      "MgF\n"
     ]
    },
    {
     "name": "stderr",
     "output_type": "stream",
     "text": [
      " 96%|█████████▌| 88/92 [01:53<00:04,  1.16s/it]"
     ]
    },
    {
     "name": "stdout",
     "output_type": "stream",
     "text": [
      "N2\n"
     ]
    },
    {
     "name": "stderr",
     "output_type": "stream",
     "text": [
      " 97%|█████████▋| 89/92 [01:53<00:02,  1.09it/s]"
     ]
    },
    {
     "name": "stdout",
     "output_type": "stream",
     "text": [
      "SiN\n"
     ]
    },
    {
     "name": "stderr",
     "output_type": "stream",
     "text": [
      " 98%|█████████▊| 90/92 [01:55<00:02,  1.02s/it]"
     ]
    },
    {
     "name": "stdout",
     "output_type": "stream",
     "text": [
      "K\n"
     ]
    },
    {
     "name": "stderr",
     "output_type": "stream",
     "text": [
      " 99%|█████████▉| 91/92 [01:55<00:00,  1.21it/s]"
     ]
    },
    {
     "name": "stdout",
     "output_type": "stream",
     "text": [
      "Na\n"
     ]
    },
    {
     "name": "stderr",
     "output_type": "stream",
     "text": [
      "100%|██████████| 92/92 [01:55<00:00,  1.26s/it]\n"
     ]
    }
   ],
   "source": [
    "new_def_url = get_new_def()\n",
    "old_def_url = get_old_def()\n",
    "add_def_url = get_add_def(new_def_url, old_def_url)"
   ]
  },
  {
   "cell_type": "code",
   "execution_count": 78,
   "metadata": {},
   "outputs": [
    {
     "name": "stdout",
     "output_type": "stream",
     "text": [
      "New version of master file ExoMol.all has  250  def files.\n"
     ]
    },
    {
     "data": {
      "text/html": [
       "<div>\n",
       "<style scoped>\n",
       "    .dataframe tbody tr th:only-of-type {\n",
       "        vertical-align: middle;\n",
       "    }\n",
       "\n",
       "    .dataframe tbody tr th {\n",
       "        vertical-align: top;\n",
       "    }\n",
       "\n",
       "    .dataframe thead th {\n",
       "        text-align: right;\n",
       "    }\n",
       "</style>\n",
       "<table border=\"1\" class=\"dataframe\">\n",
       "  <thead>\n",
       "    <tr style=\"text-align: right;\">\n",
       "      <th></th>\n",
       "      <th>new</th>\n",
       "    </tr>\n",
       "  </thead>\n",
       "  <tbody>\n",
       "    <tr>\n",
       "      <th>0</th>\n",
       "      <td>https://www.exomol.com/db/MgH/24Mg-1H/Yadin/24Mg-1H__Yadin.def</td>\n",
       "    </tr>\n",
       "    <tr>\n",
       "      <th>1</th>\n",
       "      <td>https://www.exomol.com/db/MgH/24Mg-1H/XAB/24Mg-1H__XAB.def</td>\n",
       "    </tr>\n",
       "    <tr>\n",
       "      <th>2</th>\n",
       "      <td>https://www.exomol.com/db/MgH/24Mg-1H/MoLLIST-MgH/24Mg-1H__MoLLIST-MgH.def</td>\n",
       "    </tr>\n",
       "    <tr>\n",
       "      <th>3</th>\n",
       "      <td>https://www.exomol.com/db/MgH/25Mg-1H/XAB/25Mg-1H__XAB.def</td>\n",
       "    </tr>\n",
       "    <tr>\n",
       "      <th>4</th>\n",
       "      <td>https://www.exomol.com/db/MgH/25Mg-1H/Yadin/25Mg-1H__Yadin.def</td>\n",
       "    </tr>\n",
       "    <tr>\n",
       "      <th>...</th>\n",
       "      <td>...</td>\n",
       "    </tr>\n",
       "    <tr>\n",
       "      <th>245</th>\n",
       "      <td>https://www.exomol.com/db/SiN/28Si-15N/SiNfull/28Si-15N__SiNfull.def</td>\n",
       "    </tr>\n",
       "    <tr>\n",
       "      <th>246</th>\n",
       "      <td>https://www.exomol.com/db/SiN/29Si-14N/SiNfull/29Si-14N__SiNfull.def</td>\n",
       "    </tr>\n",
       "    <tr>\n",
       "      <th>247</th>\n",
       "      <td>https://www.exomol.com/db/SiN/30Si-14N/SiNfull/30Si-14N__SiNfull.def</td>\n",
       "    </tr>\n",
       "    <tr>\n",
       "      <th>248</th>\n",
       "      <td>https://www.exomol.com/db/K/39K/Kurucz-K/39K__Kurucz-K.def</td>\n",
       "    </tr>\n",
       "    <tr>\n",
       "      <th>249</th>\n",
       "      <td>https://www.exomol.com/db/Na/23Na/Kurucz-Na/23Na__Kurucz-Na.def</td>\n",
       "    </tr>\n",
       "  </tbody>\n",
       "</table>\n",
       "<p>250 rows × 1 columns</p>\n",
       "</div>"
      ],
      "text/plain": [
       "                                                                            new\n",
       "0                https://www.exomol.com/db/MgH/24Mg-1H/Yadin/24Mg-1H__Yadin.def\n",
       "1                    https://www.exomol.com/db/MgH/24Mg-1H/XAB/24Mg-1H__XAB.def\n",
       "2    https://www.exomol.com/db/MgH/24Mg-1H/MoLLIST-MgH/24Mg-1H__MoLLIST-MgH.def\n",
       "3                    https://www.exomol.com/db/MgH/25Mg-1H/XAB/25Mg-1H__XAB.def\n",
       "4                https://www.exomol.com/db/MgH/25Mg-1H/Yadin/25Mg-1H__Yadin.def\n",
       "..                                                                          ...\n",
       "245        https://www.exomol.com/db/SiN/28Si-15N/SiNfull/28Si-15N__SiNfull.def\n",
       "246        https://www.exomol.com/db/SiN/29Si-14N/SiNfull/29Si-14N__SiNfull.def\n",
       "247        https://www.exomol.com/db/SiN/30Si-14N/SiNfull/30Si-14N__SiNfull.def\n",
       "248                  https://www.exomol.com/db/K/39K/Kurucz-K/39K__Kurucz-K.def\n",
       "249             https://www.exomol.com/db/Na/23Na/Kurucz-Na/23Na__Kurucz-Na.def\n",
       "\n",
       "[250 rows x 1 columns]"
      ]
     },
     "execution_count": 78,
     "metadata": {},
     "output_type": "execute_result"
    }
   ],
   "source": [
    "print('New version of master file ExoMol.all has ', int(len(new_def_url)), ' def files.')\n",
    "new_def_url"
   ]
  },
  {
   "cell_type": "code",
   "execution_count": 79,
   "metadata": {},
   "outputs": [
    {
     "name": "stdout",
     "output_type": "stream",
     "text": [
      "Old version of master file ExoMol.all has  188  def files.\n"
     ]
    },
    {
     "data": {
      "text/html": [
       "<div>\n",
       "<style scoped>\n",
       "    .dataframe tbody tr th:only-of-type {\n",
       "        vertical-align: middle;\n",
       "    }\n",
       "\n",
       "    .dataframe tbody tr th {\n",
       "        vertical-align: top;\n",
       "    }\n",
       "\n",
       "    .dataframe thead th {\n",
       "        text-align: right;\n",
       "    }\n",
       "</style>\n",
       "<table border=\"1\" class=\"dataframe\">\n",
       "  <thead>\n",
       "    <tr style=\"text-align: right;\">\n",
       "      <th></th>\n",
       "      <th>old</th>\n",
       "    </tr>\n",
       "  </thead>\n",
       "  <tbody>\n",
       "    <tr>\n",
       "      <th>0</th>\n",
       "      <td>https://www.exomol.com/db/H2O/2H2-16O/Hewitt/2H2-16O__Hewitt.def</td>\n",
       "    </tr>\n",
       "    <tr>\n",
       "      <th>1</th>\n",
       "      <td>https://www.exomol.com/db/H2O/1H2-16O/POKAZATEL/1H2-16O__POKAZATEL.def</td>\n",
       "    </tr>\n",
       "    <tr>\n",
       "      <th>2</th>\n",
       "      <td>https://www.exomol.com/db/H2O/1H2-18O/HotWat78/1H2-18O__HotWat78.def</td>\n",
       "    </tr>\n",
       "    <tr>\n",
       "      <th>3</th>\n",
       "      <td>https://www.exomol.com/db/H2O/1H2-17O/HotWat78/1H2-17O__HotWat78.def</td>\n",
       "    </tr>\n",
       "    <tr>\n",
       "      <th>4</th>\n",
       "      <td>https://www.exomol.com/db/H2O/1H-2H-16O/VTT/1H-2H-16O__VTT.def</td>\n",
       "    </tr>\n",
       "    <tr>\n",
       "      <th>...</th>\n",
       "      <td>...</td>\n",
       "    </tr>\n",
       "    <tr>\n",
       "      <th>183</th>\n",
       "      <td>https://www.exomol.com/db/SiO2/28Si-16O2/OYT3/28Si-16O2__OYT3.def</td>\n",
       "    </tr>\n",
       "    <tr>\n",
       "      <th>184</th>\n",
       "      <td>https://www.exomol.com/db/cis-P2H2/cis-31P2-1H2/OY-Cis/cis-31P2-1H2__OY-Cis.def</td>\n",
       "    </tr>\n",
       "    <tr>\n",
       "      <th>185</th>\n",
       "      <td>https://www.exomol.com/db/trans-P2H2/trans-31P2-1H-2H/OY-Trans/trans-31P2-1H-2H__OY-Trans.def</td>\n",
       "    </tr>\n",
       "    <tr>\n",
       "      <th>186</th>\n",
       "      <td>https://www.exomol.com/db/trans-P2H2/trans-31P2-1H2/OY-Trans/trans-31P2-1H2__OY-Trans.def</td>\n",
       "    </tr>\n",
       "    <tr>\n",
       "      <th>187</th>\n",
       "      <td>https://www.exomol.com/db/H3O_p/1H3-16O_p/eXeL/1H3-16O_p__eXeL.def</td>\n",
       "    </tr>\n",
       "  </tbody>\n",
       "</table>\n",
       "<p>188 rows × 1 columns</p>\n",
       "</div>"
      ],
      "text/plain": [
       "                                                                                               old\n",
       "0                                 https://www.exomol.com/db/H2O/2H2-16O/Hewitt/2H2-16O__Hewitt.def\n",
       "1                           https://www.exomol.com/db/H2O/1H2-16O/POKAZATEL/1H2-16O__POKAZATEL.def\n",
       "2                             https://www.exomol.com/db/H2O/1H2-18O/HotWat78/1H2-18O__HotWat78.def\n",
       "3                             https://www.exomol.com/db/H2O/1H2-17O/HotWat78/1H2-17O__HotWat78.def\n",
       "4                                   https://www.exomol.com/db/H2O/1H-2H-16O/VTT/1H-2H-16O__VTT.def\n",
       "..                                                                                             ...\n",
       "183                              https://www.exomol.com/db/SiO2/28Si-16O2/OYT3/28Si-16O2__OYT3.def\n",
       "184                https://www.exomol.com/db/cis-P2H2/cis-31P2-1H2/OY-Cis/cis-31P2-1H2__OY-Cis.def\n",
       "185  https://www.exomol.com/db/trans-P2H2/trans-31P2-1H-2H/OY-Trans/trans-31P2-1H-2H__OY-Trans.def\n",
       "186      https://www.exomol.com/db/trans-P2H2/trans-31P2-1H2/OY-Trans/trans-31P2-1H2__OY-Trans.def\n",
       "187                             https://www.exomol.com/db/H3O_p/1H3-16O_p/eXeL/1H3-16O_p__eXeL.def\n",
       "\n",
       "[188 rows x 1 columns]"
      ]
     },
     "execution_count": 79,
     "metadata": {},
     "output_type": "execute_result"
    }
   ],
   "source": [
    "print('Old version of master file ExoMol.all has ', len(old_def_url), ' def files.')\n",
    "old_def_url"
   ]
  },
  {
   "cell_type": "code",
   "execution_count": 80,
   "metadata": {},
   "outputs": [
    {
     "name": "stdout",
     "output_type": "stream",
     "text": [
      "Master file ExoMol.all has  72  new def files.\n"
     ]
    },
    {
     "data": {
      "text/html": [
       "<div>\n",
       "<style scoped>\n",
       "    .dataframe tbody tr th:only-of-type {\n",
       "        vertical-align: middle;\n",
       "    }\n",
       "\n",
       "    .dataframe tbody tr th {\n",
       "        vertical-align: top;\n",
       "    }\n",
       "\n",
       "    .dataframe thead th {\n",
       "        text-align: right;\n",
       "    }\n",
       "</style>\n",
       "<table border=\"1\" class=\"dataframe\">\n",
       "  <thead>\n",
       "    <tr style=\"text-align: right;\">\n",
       "      <th></th>\n",
       "      <th>add</th>\n",
       "    </tr>\n",
       "  </thead>\n",
       "  <tbody>\n",
       "    <tr>\n",
       "      <th>0</th>\n",
       "      <td>https://www.exomol.com/db/MgH/24Mg-1H/XAB/24Mg-1H__XAB.def</td>\n",
       "    </tr>\n",
       "    <tr>\n",
       "      <th>1</th>\n",
       "      <td>https://www.exomol.com/db/MgH/24Mg-1H/MoLLIST-MgH/24Mg-1H__MoLLIST-MgH.def</td>\n",
       "    </tr>\n",
       "    <tr>\n",
       "      <th>2</th>\n",
       "      <td>https://www.exomol.com/db/MgH/25Mg-1H/XAB/25Mg-1H__XAB.def</td>\n",
       "    </tr>\n",
       "    <tr>\n",
       "      <th>3</th>\n",
       "      <td>https://www.exomol.com/db/MgH/26Mg-1H/XAB/26Mg-1H__XAB.def</td>\n",
       "    </tr>\n",
       "    <tr>\n",
       "      <th>4</th>\n",
       "      <td>https://www.exomol.com/db/CaH/40Ca-1H/MoLLIST-CaH/40Ca-1H__MoLLIST-CaH.def</td>\n",
       "    </tr>\n",
       "    <tr>\n",
       "      <th>...</th>\n",
       "      <td>...</td>\n",
       "    </tr>\n",
       "    <tr>\n",
       "      <th>67</th>\n",
       "      <td>https://www.exomol.com/db/SiN/28Si-15N/SiNfull/28Si-15N__SiNfull.def</td>\n",
       "    </tr>\n",
       "    <tr>\n",
       "      <th>68</th>\n",
       "      <td>https://www.exomol.com/db/SiN/29Si-14N/SiNfull/29Si-14N__SiNfull.def</td>\n",
       "    </tr>\n",
       "    <tr>\n",
       "      <th>69</th>\n",
       "      <td>https://www.exomol.com/db/SiN/30Si-14N/SiNfull/30Si-14N__SiNfull.def</td>\n",
       "    </tr>\n",
       "    <tr>\n",
       "      <th>70</th>\n",
       "      <td>https://www.exomol.com/db/K/39K/Kurucz-K/39K__Kurucz-K.def</td>\n",
       "    </tr>\n",
       "    <tr>\n",
       "      <th>71</th>\n",
       "      <td>https://www.exomol.com/db/Na/23Na/Kurucz-Na/23Na__Kurucz-Na.def</td>\n",
       "    </tr>\n",
       "  </tbody>\n",
       "</table>\n",
       "<p>72 rows × 1 columns</p>\n",
       "</div>"
      ],
      "text/plain": [
       "                                                                           add\n",
       "0                   https://www.exomol.com/db/MgH/24Mg-1H/XAB/24Mg-1H__XAB.def\n",
       "1   https://www.exomol.com/db/MgH/24Mg-1H/MoLLIST-MgH/24Mg-1H__MoLLIST-MgH.def\n",
       "2                   https://www.exomol.com/db/MgH/25Mg-1H/XAB/25Mg-1H__XAB.def\n",
       "3                   https://www.exomol.com/db/MgH/26Mg-1H/XAB/26Mg-1H__XAB.def\n",
       "4   https://www.exomol.com/db/CaH/40Ca-1H/MoLLIST-CaH/40Ca-1H__MoLLIST-CaH.def\n",
       "..                                                                         ...\n",
       "67        https://www.exomol.com/db/SiN/28Si-15N/SiNfull/28Si-15N__SiNfull.def\n",
       "68        https://www.exomol.com/db/SiN/29Si-14N/SiNfull/29Si-14N__SiNfull.def\n",
       "69        https://www.exomol.com/db/SiN/30Si-14N/SiNfull/30Si-14N__SiNfull.def\n",
       "70                  https://www.exomol.com/db/K/39K/Kurucz-K/39K__Kurucz-K.def\n",
       "71             https://www.exomol.com/db/Na/23Na/Kurucz-Na/23Na__Kurucz-Na.def\n",
       "\n",
       "[72 rows x 1 columns]"
      ]
     },
     "execution_count": 80,
     "metadata": {},
     "output_type": "execute_result"
    }
   ],
   "source": [
    "print('Master file ExoMol.all has ', len(add_def_url), ' new def files.')\n",
    "add_def_url"
   ]
  },
  {
   "cell_type": "code",
   "execution_count": 61,
   "metadata": {},
   "outputs": [],
   "source": [
    "download_master_file()"
   ]
  },
  {
   "cell_type": "code",
   "execution_count": 81,
   "metadata": {},
   "outputs": [
    {
     "name": "stderr",
     "output_type": "stream",
     "text": [
      "100%|██████████| 72/72 [00:01<00:00, 45.72it/s]"
     ]
    },
    {
     "name": "stdout",
     "output_type": "stream",
     "text": [
      "There are  9  invalid url pages of def files.\n"
     ]
    },
    {
     "name": "stderr",
     "output_type": "stream",
     "text": [
      "\n"
     ]
    },
    {
     "data": {
      "text/html": [
       "<div>\n",
       "<style scoped>\n",
       "    .dataframe tbody tr th:only-of-type {\n",
       "        vertical-align: middle;\n",
       "    }\n",
       "\n",
       "    .dataframe tbody tr th {\n",
       "        vertical-align: top;\n",
       "    }\n",
       "\n",
       "    .dataframe thead th {\n",
       "        text-align: right;\n",
       "    }\n",
       "</style>\n",
       "<table border=\"1\" class=\"dataframe\">\n",
       "  <thead>\n",
       "    <tr style=\"text-align: right;\">\n",
       "      <th></th>\n",
       "      <th>0</th>\n",
       "    </tr>\n",
       "  </thead>\n",
       "  <tbody>\n",
       "    <tr>\n",
       "      <th>0</th>\n",
       "      <td>https://www.exomol.com/db/MgH/24Mg-1H/MoLLIST-MgH/24Mg-1H__MoLLIST-MgH.def</td>\n",
       "    </tr>\n",
       "    <tr>\n",
       "      <th>1</th>\n",
       "      <td>https://www.exomol.com/db/CaH/40Ca-1H/MoLLIST-CaH/40Ca-1H__MoLLIST-CaH.def</td>\n",
       "    </tr>\n",
       "    <tr>\n",
       "      <th>2</th>\n",
       "      <td>https://www.exomol.com/db/FeH/56Fe-1H/Bernath/56Fe-1H__Bernath.def</td>\n",
       "    </tr>\n",
       "    <tr>\n",
       "      <th>3</th>\n",
       "      <td>https://www.exomol.com/db/HCl/1H-35Cl/PTY/1H-35Cl__PTY.def</td>\n",
       "    </tr>\n",
       "    <tr>\n",
       "      <th>4</th>\n",
       "      <td>https://www.exomol.com/db/HF/1H-19F/PTY/1H-19F__PTY.def</td>\n",
       "    </tr>\n",
       "    <tr>\n",
       "      <th>5</th>\n",
       "      <td>https://www.exomol.com/db/H2O/1H2-16O/VT/1H2-16O__VT.def</td>\n",
       "    </tr>\n",
       "    <tr>\n",
       "      <th>6</th>\n",
       "      <td>https://www.exomol.com/db/H2_p/1H2_p/ADJSAAM/1H2_p__ADJSAAM.def</td>\n",
       "    </tr>\n",
       "    <tr>\n",
       "      <th>7</th>\n",
       "      <td>https://www.exomol.com/db/H3_p/1H3_p/NT/1H3_p__NT.def</td>\n",
       "    </tr>\n",
       "    <tr>\n",
       "      <th>8</th>\n",
       "      <td>https://www.exomol.com/db/K/39K/Kurucz-K/39K__Kurucz-K.def</td>\n",
       "    </tr>\n",
       "  </tbody>\n",
       "</table>\n",
       "</div>"
      ],
      "text/plain": [
       "                                                                            0\n",
       "0  https://www.exomol.com/db/MgH/24Mg-1H/MoLLIST-MgH/24Mg-1H__MoLLIST-MgH.def\n",
       "1  https://www.exomol.com/db/CaH/40Ca-1H/MoLLIST-CaH/40Ca-1H__MoLLIST-CaH.def\n",
       "2          https://www.exomol.com/db/FeH/56Fe-1H/Bernath/56Fe-1H__Bernath.def\n",
       "3                  https://www.exomol.com/db/HCl/1H-35Cl/PTY/1H-35Cl__PTY.def\n",
       "4                     https://www.exomol.com/db/HF/1H-19F/PTY/1H-19F__PTY.def\n",
       "5                    https://www.exomol.com/db/H2O/1H2-16O/VT/1H2-16O__VT.def\n",
       "6             https://www.exomol.com/db/H2_p/1H2_p/ADJSAAM/1H2_p__ADJSAAM.def\n",
       "7                       https://www.exomol.com/db/H3_p/1H3_p/NT/1H3_p__NT.def\n",
       "8                  https://www.exomol.com/db/K/39K/Kurucz-K/39K__Kurucz-K.def"
      ]
     },
     "execution_count": 81,
     "metadata": {},
     "output_type": "execute_result"
    }
   ],
   "source": [
    "urlpage = get_invalid_urlpage(add_def_url)\n",
    "urlpage"
   ]
  },
  {
   "cell_type": "code",
   "execution_count": null,
   "metadata": {},
   "outputs": [],
   "source": []
  }
 ],
 "metadata": {
  "kernelspec": {
   "display_name": "exomol",
   "language": "python",
   "name": "python3"
  },
  "language_info": {
   "codemirror_mode": {
    "name": "ipython",
    "version": 3
   },
   "file_extension": ".py",
   "mimetype": "text/x-python",
   "name": "python",
   "nbconvert_exporter": "python",
   "pygments_lexer": "ipython3",
   "version": "3.9.13"
  },
  "vscode": {
   "interpreter": {
    "hash": "722cf535e3d158a42a418157a233af576121476252bfbc7c5af47c8831a1fc54"
   }
  }
 },
 "nbformat": 4,
 "nbformat_minor": 2
}
