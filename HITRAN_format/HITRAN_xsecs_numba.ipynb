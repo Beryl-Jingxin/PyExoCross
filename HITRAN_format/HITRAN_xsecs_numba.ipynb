{
 "cells": [
  {
   "cell_type": "markdown",
   "metadata": {},
   "source": [
    "## Import all what we need."
   ]
  },
  {
   "cell_type": "code",
   "execution_count": 1,
   "metadata": {},
   "outputs": [],
   "source": [
    "import os\n",
    "import math\n",
    "import glob\n",
    "import time\n",
    "import pylab\n",
    "import requests\n",
    "import numpy as np\n",
    "import pandas as pd\n",
    "from tqdm import tqdm\n",
    "from numba import jit\n",
    "from io import StringIO\n",
    "import matplotlib.pyplot as plt\n",
    "import threading, multiprocessing"
   ]
  },
  {
   "cell_type": "markdown",
   "metadata": {},
   "source": [
    "## The Input File Path\n",
    "\n",
    "\n",
    "<table><tr><td bgcolor=skyblue><font size=24> Could be changed ! </font></td></tr></table>"
   ]
  },
  {
   "cell_type": "code",
   "execution_count": 2,
   "metadata": {},
   "outputs": [],
   "source": [
    "inp_filepath = 'hitran.inp'"
   ]
  },
  {
   "cell_type": "markdown",
   "metadata": {},
   "source": [
    "## Report time"
   ]
  },
  {
   "cell_type": "code",
   "execution_count": 3,
   "metadata": {},
   "outputs": [],
   "source": [
    "class Timer:    \n",
    "    def __enter__(self):\n",
    "        self.start = time.time()\n",
    "        return self\n",
    "\n",
    "    def __exit__(self, *args):\n",
    "        self.end = time.time()\n",
    "        self.interval = self.end - self.start"
   ]
  },
  {
   "cell_type": "markdown",
   "metadata": {},
   "source": [
    "## Read Information from Input File"
   ]
  },
  {
   "cell_type": "code",
   "execution_count": 4,
   "metadata": {},
   "outputs": [],
   "source": [
    "def inp_para(inp_filepath):\n",
    "    \n",
    "    inp_col_name = ['c0', 'c1', 'c2']\n",
    "    inp_df = pd.read_csv(inp_filepath, sep='\\\\s+', names=inp_col_name, header=None)\n",
    "    col0 = inp_df['c0']\n",
    "    database = inp_df[col0.isin(['Database'])]['c1'].values[0]\n",
    "    molecule = inp_df[col0.isin(['Molecule'])]['c1'].values[0]\n",
    "    isotopologue = inp_df[col0.isin(['Isotopologue'])]['c1'].values\n",
    "    iso = int(inp_df[col0.isin(['iso'])]['c1'])\n",
    "    T = int(inp_df[col0.isin(['Temperature'])]['c1'])\n",
    "    min_wn = float(inp_df[col0.isin(['Range'])]['c1'])\n",
    "    max_wn = float(inp_df[col0.isin(['Range'])]['c2'])\n",
    "    N_point = int(inp_df[col0.isin(['Npoints'])]['c1'])\n",
    "    profile = inp_df[col0.isin(['Profile'])]['c1'].values[0]\n",
    "    wn_wl = inp_df[col0.isin(['Wavenumber(wn)/wavelength(wl)'])]['c1'].values[0]\n",
    "    par_filepath = inp_df[col0.isin(['Transitions'])]['c1'].values[0]\n",
    "    saveplots = inp_df[col0.isin(['SavePlots'])]['c1'].values[0]\n",
    "    savexsecs = inp_df[col0.isin(['SaveXsecs'])]['c1'].values[0]\n",
    "\n",
    "    molecule_id = int(iso/10)\n",
    "    isotopologue_id = iso - molecule_id * 10\n",
    "    isometa_url = 'https://hitran.org/docs/iso-meta/'\n",
    "    iso_meta_table = pd.read_html(isometa_url)[molecule_id - 1]\n",
    "    iso_meta_row = iso_meta_table[iso_meta_table['local ID'].isin([isotopologue_id])]\n",
    "    abundance = float(iso_meta_row['Abundance'][0].replace('\\xa0×\\xa010','E'))\n",
    "    mass = float(iso_meta_row['Molar Mass /g·mol-1'])\n",
    "    Q_ref = float(iso_meta_row.loc[0][6].replace('\\xa0×\\xa010','E'))\n",
    "    Q_url = 'https://hitran.org/data/Q/' + iso_meta_row.loc[0][7]\n",
    "    Q_content = requests.get(Q_url).text\n",
    "    Q_col_name = ['T', 'Q']\n",
    "    Q_df = pd.read_csv(StringIO(Q_content), sep='\\\\s+', names=Q_col_name, header=None)\n",
    "    Q = Q_df['Q'][T - 1]\n",
    "    \n",
    "    return database, molecule, T, min_wn, max_wn, N_point, profile, wn_wl, par_filepath, saveplots, savexsecs, molecule_id, isotopologue_id, abundance, mass, Q_ref, Q\n"
   ]
  },
  {
   "cell_type": "markdown",
   "metadata": {},
   "source": [
    "## Constants and Parameters"
   ]
  },
  {
   "cell_type": "code",
   "execution_count": 5,
   "metadata": {},
   "outputs": [],
   "source": [
    "# HITRAN Parameters for calculating.\n",
    "import astropy.constants as ac\n",
    "database, molecule, T, min_wn, max_wn, N_point, profile, wn_wl, par_filepath, saveplots, savexsecs, molecule_id, isotopologue_id, abundance, mass, Q_ref, Q = inp_para(inp_filepath)\n",
    "T_ref = 296                     # Reference temperature is 296 K.\n",
    "P_ref = 1                       # Reference pressure is 1 atm.\n",
    "P = 1\n",
    "N_A = ac.N_A.value              # Avogadro number (mol^{-1})\n",
    "h = ac.h.to('J s').value        # Planck's const (J s)\n",
    "c = ac.c.to('cm/s').value       # Velocity of light (cm s^{-1})\n",
    "kB = ac.k_B.to('J/K').value     # Boltzmann's const (J K^{-1})\n",
    "c2 = h * c / kB                 # Second radiation constant (cm K)\n",
    "c2_T = c2 / T                   # c2 / T (cm)\n",
    "c2_T_ref = c2 / T_ref           # c2 / T_ref (cm)\n",
    "\n",
    "ratio_air = 0.7\n",
    "ratio_self = 0.3\n",
    "cutoff = 25.0\n"
   ]
  },
  {
   "cell_type": "markdown",
   "metadata": {},
   "source": [
    "## Read HITRAN Format Input File\n",
    "\n",
    "Read the parameters of the molecular absorption features of HITRAN2016 format text file. Return the dataframe of the HITRAN data for the following calculations."
   ]
  },
  {
   "cell_type": "code",
   "execution_count": 6,
   "metadata": {},
   "outputs": [],
   "source": [
    "def read_hitran2016_parfile (par_filepath, parfile_df):\n",
    "    '''\n",
    "    Read the parameters of the molecular absorption features\n",
    "    of HITRAN2016 format text file.\n",
    "    \n",
    "    Parameters\n",
    "    ----------\n",
    "    par_filepath : str\n",
    "        Input file path for reading.\n",
    "    Return\n",
    "    ------\n",
    "    hitran_df : DataFrame\n",
    "        The DataFrame of HITRAN data for the molecule.\n",
    "    '''    \n",
    "    par_filename = par_filepath.split('/')[3]\n",
    "    \n",
    "    if not os.path.exists:\n",
    "        raise ImportError('The input file ' + par_filename + ' does not exist.')\n",
    "\n",
    "    #par_df = dict()\n",
    "    #parfile_df = pd.DataFrame()\n",
    "\n",
    "    #par_df[par_filepath] = pd.read_csv(par_filepath, header=None, chunksize=100_000_000, iterator=True, low_memory=False)\n",
    "    #for chunk in par_df[par_filepath]:\n",
    "    #    parfile_df = parfile_df.append(chunk)\n",
    "\n",
    "    if (len(str(parfile_df[0][0])) < 160):\n",
    "        raise ImportError('The file ' + par_filename + ' is not a HITRAN2016 format data file.')\n",
    "    #hitran_column_name = ['M','I','v','S','Acoeff','gamma_air','gamma_self',\n",
    "    #                     'Epp','n_air','delta_air','Vp','Vpp','Qp','Qpp',\n",
    "    #                     'Ierr','Iref','flag','gp','gpp']\n",
    "\n",
    "    hitran_df = pd.DataFrame()\n",
    "\n",
    "    hitran_df['M'] = pd.to_numeric(parfile_df[0].map(lambda x: x[0:2]), errors='coerce').astype('int64')                 # Molecule identification number\n",
    "    hitran_df['I'] = pd.to_numeric(parfile_df[0].map(lambda x: x[2:3]), errors='coerce').astype('int64')                 # Isotopologue number\n",
    "    hitran_df['v'] = pd.to_numeric(parfile_df[0].map(lambda x: x[3:15]), errors='coerce').astype('float64')              # Transition wavenumber (in cm^{-1})\n",
    "    hitran_df['S'] = pd.to_numeric(parfile_df[0].map(lambda x: x[15:25]), errors='coerce').astype('float64')             # Intensity (cm^{-1} / (molecule cm^{-2})\n",
    "    hitran_df['Acoeff'] = pd.to_numeric(parfile_df[0].map(lambda x: x[25:35]), errors='coerce').astype('float64')        # Einstein A-coefficient (in s^{-1})\n",
    "    hitran_df['gamma_air'] = pd.to_numeric(parfile_df[0].map(lambda x: x[35:40]), errors='coerce').astype('float64')     # Air-broadened half-width at half maximum (HWHM) coefficient (cm^{-1} atm^{-1})\n",
    "    hitran_df['gamma_self'] = pd.to_numeric(parfile_df[0].map(lambda x: x[40:45]), errors='coerce').astype('float64')    # Self-broadened half-width at half maximum (HWHM) coefficient (cm^{-1} atm^{-1})\n",
    "    hitran_df['Epp'] = pd.to_numeric(parfile_df[0].map(lambda x: x[45:55]), errors='coerce').astype('float64')           # Lower state energy (cm^{-1})\n",
    "    hitran_df['n_air'] = pd.to_numeric(parfile_df[0].map(lambda x: x[55:59]), errors='coerce').astype('float64')         # Temperature-dependent exponent for gamma_air\n",
    "    hitran_df['delta_air'] = pd.to_numeric(parfile_df[0].map(lambda x: x[59:67]), errors='coerce').astype('float64')     # Air pressure_include line shift (cm^{-1} atm^{-1})\n",
    "    hitran_df['Vp'] = parfile_df[0].map(lambda x: x[67:82])                                                              # Upper-state \"global\" quanta\n",
    "    hitran_df['Vpp'] = parfile_df[0].map(lambda x: x[82:97])                                                             # Lower-state \"global\" quanta\n",
    "    hitran_df['Qp'] = parfile_df[0].map(lambda x: x[97:112])                                                             # Upper-state \"local\" quanta\n",
    "    hitran_df['Qpp'] = parfile_df[0].map(lambda x: x[112:127])                                                           # Lower-state \"local\" quanta\n",
    "    hitran_df['Ierr'] = parfile_df[0].map(lambda x: x[127:133])                                                          # Uncertainty indices\n",
    "    hitran_df['Iref'] = parfile_df[0].map(lambda x: x[133:145])                                                          # Reference indices\n",
    "    hitran_df['flag'] = parfile_df[0].map(lambda x: x[145:146])                                                          # Flag\n",
    "    hitran_df['gp'] = pd.to_numeric(parfile_df[0].map(lambda x: x[146:153]), errors='coerce').astype('float64')          # Statistical weight of the upper state\n",
    "    hitran_df['gpp'] = pd.to_numeric(parfile_df[0].map(lambda x: x[153:160]), errors='coerce').astype('float64')         # Statistical weight of the lower state\n",
    "\n",
    "    #hitran_df = hitran_df[hitran_df['I'].isin([1])]\n",
    "    \n",
    "    return hitran_df\n"
   ]
  },
  {
   "cell_type": "markdown",
   "metadata": {},
   "source": [
    "## Line Profile"
   ]
  },
  {
   "cell_type": "markdown",
   "metadata": {},
   "source": [
    "## Calculate Cross Sections"
   ]
  },
  {
   "cell_type": "markdown",
   "metadata": {},
   "source": [
    "## Plot and Save Results"
   ]
  },
  {
   "cell_type": "markdown",
   "metadata": {},
   "source": [
    "### Test"
   ]
  },
  {
   "cell_type": "code",
   "execution_count": 7,
   "metadata": {},
   "outputs": [],
   "source": [
    "def hitran_data_prepare(hitran_df):\n",
    "    '''\n",
    "    Read HITRAN .par file as the input file.\n",
    "    Return the data for calculating wavennumbers and cross sections with line profiles.\n",
    "    \n",
    "    '''\n",
    "    hitran_df = hitran_df[hitran_df['v'].between(min_wn, max_wn)]\n",
    "    nlines = len(hitran_df)\n",
    "    wn_grid = np.linspace(min_wn - cutoff, max_wn + cutoff, N_point)\n",
    "    S = hitran_df['S'].values\n",
    "    Epp = hitran_df['Epp'].values\n",
    "    n_air = hitran_df['n_air'].values\n",
    "    gamma_air = hitran_df['gamma_air'].values\n",
    "    gamma_self = hitran_df['gamma_self'].values\n",
    "    v = hitran_df['v'].values + hitran_df['delta_air'].values * (P - P_ref) / P\n",
    "    #v = hitran_df['v']\n",
    "    \n",
    "    return (nlines, wn_grid, S, Epp, n_air, gamma_air, gamma_self, v)"
   ]
  },
  {
   "cell_type": "code",
   "execution_count": 8,
   "metadata": {},
   "outputs": [],
   "source": [
    "@jit(\"(float64[:](float64[:], float64, int32))\", nopython=True)\n",
    "def Doppler_HWHM (v, mass, T):\n",
    "    '''Return the Doppler half-width at half-maximum (HWHM) -- alpha.'''\n",
    "    alpha = np.sqrt(2 * N_A * kB * T * np.log(2) / mass) * v / c\n",
    "    return alpha"
   ]
  },
  {
   "cell_type": "code",
   "execution_count": 9,
   "metadata": {},
   "outputs": [],
   "source": [
    "@jit(\"(float64[:](int32, int32, float64[:], float64[:], float64[:]))\", nopython=True)\n",
    "def Lorentzian_HWHM (T, P, n_air, gamma_air, gamma_self):\n",
    "    '''Return the Lorentzian half-width at half-maximum (HWHM) -- gamma.'''\n",
    "    gamma = (gamma_air * ratio_air + gamma_self * ratio_self) * ((T_ref / T)**n_air) * (P / P_ref)\n",
    "    return gamma"
   ]
  },
  {
   "cell_type": "code",
   "execution_count": 10,
   "metadata": {},
   "outputs": [],
   "source": [
    "@jit(\"(float64[:](float64[:], int32, int32, float64[:], int32, int32, float64[:]))\", nopython=True)\n",
    "def cal_abscoefs(v, T, T_ref, S, Q, Q_ref, Epp):\n",
    "    abscoef = S * Q_ref / Q * np.exp(c2 * Epp * (1/T_ref - 1/T)) * (1 - np.exp(-c2_T * v)) / (1 - np.exp(-c2_T_ref * v))\n",
    "    return (abscoef)"
   ]
  },
  {
   "cell_type": "code",
   "execution_count": 11,
   "metadata": {},
   "outputs": [],
   "source": [
    "@jit(\"(float64[:](float64[:], float64))\", nopython=True)\n",
    "def Lorentzian_profile(dv, gamma):\n",
    "    '''Return Lorentzian line profile at dv with HWHM gamma.'''\n",
    "    gamma = gamma * 2\n",
    "    Lorentzian_profile = gamma / np.pi / (dv**2 + gamma**2)\n",
    "    return Lorentzian_profile\n"
   ]
  },
  {
   "cell_type": "code",
   "execution_count": 12,
   "metadata": {},
   "outputs": [],
   "source": [
    "def hitran_cross_section_Lorentzian(nlines, wn_grid, v, gamma, abscoef):\n",
    "    '''\n",
    "    Read HITRAN .par file as the input file.\n",
    "    Return the wavennumbers and cross sections with Lorentzian profile.\n",
    "    \n",
    "    '''\n",
    "    xsec_l = np.zeros_like(wn_grid)\n",
    "\n",
    "    for i in range(nlines):\n",
    "        \n",
    "        v_i = v[i]\n",
    "        gamma_i = gamma[i]\n",
    "        abscoef_i = abscoef[i]\n",
    "        \n",
    "        dv = wn_grid - v_i\n",
    "        xsec_l += abscoef_i * Lorentzian_profile(dv, gamma_i)\n",
    "\n",
    "    return (xsec_l)"
   ]
  },
  {
   "cell_type": "code",
   "execution_count": 13,
   "metadata": {},
   "outputs": [],
   "source": [
    "def plot_hitran_xsec_Lorentzian(wn, xsec_l):\n",
    "    if (wn_wl == 'wn'):\n",
    "        #start = time.clock()\n",
    "        #(wn, xsec_l) = hitran_cross_section_Lorentzian()\n",
    "        #end = time.clock()\n",
    "        #t = end - start\n",
    "        #print('Running time :', t, 's')\n",
    "        print('Temperature selected: ', T, 'K')\n",
    "        print('Pressure selected: ', P, 'bar')\n",
    "        print('Air broading is: ', ratio_air)\n",
    "        print('Self broading is: ', ratio_self)\n",
    "        print('Wavenumber range selected: ', min_wn, 'cm-1 - ', max_wn, 'cm-1')\n",
    "        \n",
    "        xsec_l_df = pd.DataFrame()\n",
    "        xsec_l_df['wavenumber'] = wn\n",
    "        xsec_l_df['cross-section'] = xsec_l\n",
    "        xsecs_foldername = savexsecs+molecule+'/'\n",
    "        if os.path.exists(xsecs_foldername):\n",
    "            pass\n",
    "        else:\n",
    "            os.makedirs(xsecs_foldername, exist_ok=True)\n",
    "        xsec_filename = xsecs_foldername+molecule+'__T'+str(T)+'__'+str(min_wn)+'cm-1-'+str(max_wn)+'cm-1__Lorentzian__HITRAN.xsec'\n",
    "        np.savetxt(xsec_filename, np.vstack((wn,xsec_l)).T)\n",
    "        print('Saved xsec file.')\n",
    "        \n",
    "        fig = plt.figure(figsize=(12, 6))\n",
    "        plt.plot(wn, xsec_l, label='T = 500 K, Lorentzian profile')\n",
    "        plt.title('Molecule '+molecule)\n",
    "        plt.xlabel('Wavenumber, cm$^{-1}$')\n",
    "        plt.ylabel('Cross-section, cm$^{2}$/molecule')\n",
    "        plt.legend()\n",
    "        plots_foldername = saveplots+molecule+'/'\n",
    "        if os.path.exists(plots_foldername):\n",
    "            pass\n",
    "        else:\n",
    "            os.makedirs(plots_foldername, exist_ok=True)    \n",
    "        plt.savefig(plots_foldername+molecule+'__T'+str(T)+'__'+str(min_wn)+'cm-1-'+str(max_wn)+'cm-1__Lorentzian__HITRAN.png', dpi=500)\n",
    "        plt.show()\n",
    "        print('Saved xsec plots.')\n",
    "        \n",
    "    elif wn_wl == 'wl':\n",
    "        #start = time.clock()\n",
    "        #(wn, xsec_l) = hitran_cross_section_Lorentzian()\n",
    "        wl = 10**7 / wn\n",
    "        min_wl = 10**7 / min_wn\n",
    "        max_wl = 10**7 / max_wn\n",
    "        #end = time.clock()\n",
    "        #t = end - start\n",
    "        #print('Running time :', t, 's')\n",
    "        print('Temperature selected: ', T, 'K')\n",
    "        print('Pressure selected: ', P, 'bar')\n",
    "        print('Air broading is: ', ratio_air)\n",
    "        print('Self broading is: ', ratio_self)\n",
    "        print('Wavelength range selected: ', min_wl, 'nm - ', max_wl, 'nm')\n",
    "        \n",
    "        xsec_l_df = pd.DataFrame()\n",
    "        xsec_l_df['wavelength'] = wl\n",
    "        xsec_l_df['cross-section'] = xsec_l\n",
    "        xsecs_foldername = savexsecs+molecule+'/'\n",
    "        if os.path.exists(xsecs_foldername):\n",
    "            pass\n",
    "        else:\n",
    "            os.makedirs(xsecs_foldername, exist_ok=True)\n",
    "        xsec_filename = xsecs_foldername+molecule+'__T'+str(T)+'__'+str(min_wl)+'nm-'+str(max_wl)+'nm__Lorentzian__HITRAN.xsec'\n",
    "        np.savetxt(xsec_filename, np.vstack((wl,xsec_l)).T)\n",
    "        print('Saved xsec file.')\n",
    "        \n",
    "        fig = plt.figure(figsize=(12, 6))\n",
    "        plt.plot(wl, xsec_l, label='T = 500 K, Lorentzian profile')\n",
    "        plt.title('Molecule '+molecule)\n",
    "        plt.xlabel('Wavelength, nm')\n",
    "        plt.ylabel('Cross-section, nm$^{-2}$/molecule')\n",
    "        plt.legend()\n",
    "        plots_foldername = saveplots+molecule+'/'\n",
    "        if os.path.exists(plots_foldername):\n",
    "            pass\n",
    "        else:\n",
    "            os.makedirs(plots_foldername, exist_ok=True)    \n",
    "        plt.savefig(plots_foldername+molecule+'__T'+str(T)+'__'+str(min_wl)+'nm-'+str(max_wl)+'nm__Lorentzian__HITRAN.png', dpi=500)\n",
    "        plt.show()\n",
    "        print('Saved xsec plots.')\n",
    "\n",
    "    else:\n",
    "        print('Please type in correct format: wn or wl.')"
   ]
  },
  {
   "cell_type": "code",
   "execution_count": 14,
   "metadata": {},
   "outputs": [],
   "source": [
    "def get_results(parfile_df):\n",
    "    if database == 'HITRAN':\n",
    "        hitran_df = read_hitran2016_parfile (par_filepath, parfile_df)\n",
    "        nlines, wn_grid, S, Epp, n_air, gamma_air, gamma_self, v = hitran_data_prepare(hitran_df)\n",
    "\n",
    "    elif database == 'ExoMol':\n",
    "        print('Please run the code in folder ExoMol_format.')\n",
    "    else:\n",
    "        print('Please add the name of the database HITRAN or ExoMol into the input file.')\n",
    "    \n",
    "    abscoef = cal_abscoefs(v, T, T_ref, S, Q, Q_ref, Epp)\n",
    "    \n",
    "    #if profile == 'Gaussian':\n",
    "    #    plot_hitran_xsec_Gaussian()\n",
    "    if profile == 'Lorentzian':\n",
    "        gamma = Lorentzian_HWHM (T, P, n_air, gamma_air, gamma_self)\n",
    "        xsec_l = hitran_cross_section_Lorentzian(nlines, wn_grid, v, gamma, abscoef)\n",
    "        plot_hitran_xsec_Lorentzian(wn_grid, xsec_l)\n",
    "    #elif profile == 'scipy_Voigt':\n",
    "    #    plot_hitran_xsec_scipy_Voigt()\n",
    "    #elif profile == 'scipy_wofz_Voigt':\n",
    "    #    plot_hitran_xsec_scipy_wofz_Voigt()\n",
    "    #elif profile == 'width_Voigt':\n",
    "    #    plot_hitran_xsec_width_Voigt()\n",
    "    #elif profile == 'pseudo_Voigt':\n",
    "    #    plot_hitran_xsec_pseudo_Voigt()\n",
    "    #elif profile == 'pseudo_FWHM_Voigt':\n",
    "    #    plot_hitran_xsec_pseudo_FWHM_Voigt()\n",
    "    else:\n",
    "        print('Please choose line profile from the list.')\n",
    "    pass"
   ]
  },
  {
   "cell_type": "code",
   "execution_count": 18,
   "metadata": {},
   "outputs": [
    {
     "name": "stdout",
     "output_type": "stream",
     "text": [
      "Total running time : 0.3007380000000097 s\n",
      "Temperature selected:  500 K\n",
      "Pressure selected:  1 bar\n",
      "Air broading is:  0.7\n",
      "Self broading is:  0.3\n",
      "Wavenumber range selected:  2000.0 cm-1 -  10000.0 cm-1\n",
      "Saved xsec file.\n"
     ]
    },
    {
     "data": {
      "image/png": "[encoded data removed]",
      "text/plain": [
       "<Figure size 864x432 with 1 Axes>"
      ]
     },
     "metadata": {
      "needs_background": "light"
     },
     "output_type": "display_data"
    },
    {
     "name": "stdout",
     "output_type": "stream",
     "text": [
      "Saved xsec plots.\n"
     ]
    }
   ],
   "source": [
    "start = time.clock()\n",
    "par_filename = par_filepath.split('/')[3]\n",
    "    \n",
    "if not os.path.exists:\n",
    "    raise ImportError('The input file ' + par_filename + ' does not exist.')\n",
    "\n",
    "# Initialise the iterator object.\n",
    "iterator = pd.read_csv(par_filepath, chunksize=100_000_000, header=None, encoding='utf-8')\n",
    "# depends on how many cores you want to utilise.\n",
    "max_processors = 4    # Reserve 4 cores for our script.\n",
    "pool = multiprocessing.Pool(processes=max_processors)\n",
    "f_list = []\n",
    "for parfile_df in iterator:\n",
    "    f = pool.apply_async(get_results, [parfile_df])\n",
    "    f_list.append(f)\n",
    "    if len(f_list) >= max_processors:\n",
    "        for f in f_list:\n",
    "            f.get()\n",
    "            del f_list[:]\n",
    "\n",
    "end = time.clock()\n",
    "t = end - start\n",
    "print('Total running time :', t, 's')"
   ]
  },
  {
   "cell_type": "code",
   "execution_count": null,
   "metadata": {},
   "outputs": [],
   "source": []
  }
 ],
 "metadata": {
  "kernelspec": {
   "display_name": "Python 3",
   "language": "python",
   "name": "python3"
  },
  "language_info": {
   "codemirror_mode": {
    "name": "ipython",
    "version": 3
   },
   "file_extension": ".py",
   "mimetype": "text/x-python",
   "name": "python",
   "nbconvert_exporter": "python",
   "pygments_lexer": "ipython3",
   "version": "3.6.8"
  }
 },
 "nbformat": 4,
 "nbformat_minor": 4
}
